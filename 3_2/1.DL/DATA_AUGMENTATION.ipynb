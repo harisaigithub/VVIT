{
  "nbformat": 4,
  "nbformat_minor": 0,
  "metadata": {
    "colab": {
      "provenance": []
    },
    "kernelspec": {
      "name": "python3",
      "display_name": "Python 3"
    },
    "language_info": {
      "name": "python"
    }
  },
  "cells": [
    {
      "cell_type": "code",
      "execution_count": 9,
      "metadata": {
        "id": "nkFZg0lhleW-"
      },
      "outputs": [],
      "source": [
        "from keras.preprocessing.image import ImageDataGenerator\n",
        "from skimage import io\n",
        "import os\n",
        "\n",
        "# Construct an instance of the ImageDataGenerator class\n",
        "# Pass the augmentation parameters through the constructor.\n",
        "\n"
      ]
    },
    {
      "cell_type": "code",
      "source": [
        "datagen = ImageDataGenerator(\n",
        "        rotation_range=45,     #Random rotation between 0 and 45\n",
        "        width_shift_range=0.2,   #% shift\n",
        "        height_shift_range=0.2,\n",
        "        shear_range=0.2,\n",
        "        zoom_range=0.2,\n",
        "        horizontal_flip=True,\n",
        "        fill_mode='constant', cval=125)    #Also try nearest, constant, reflect, wrap\n"
      ],
      "metadata": {
        "id": "vVUffffnljki"
      },
      "execution_count": 2,
      "outputs": []
    },
    {
      "cell_type": "code",
      "source": [
        "x = io.imread('/content/image1.jpg')  #Array with shape (256, 256, 3)\n"
      ],
      "metadata": {
        "id": "s2wLIrKdlvK_"
      },
      "execution_count": 6,
      "outputs": []
    },
    {
      "cell_type": "code",
      "source": [
        "x = x.reshape((1, ) + x.shape)  #Array with shape (1, 256, 256, 3)\n"
      ],
      "metadata": {
        "id": "wrLnnEN6m1tx"
      },
      "execution_count": 7,
      "outputs": []
    },
    {
      "cell_type": "code",
      "source": [
        "i = 0\n",
        "for batch in datagen.flow(x, batch_size=16,\n",
        "                          save_to_dir='/content/sample_data/augmented',\n",
        "                          save_prefix='aug',\n",
        "                          save_format='png'):\n",
        "    i += 1\n",
        "    if i > 20:\n",
        "        break"
      ],
      "metadata": {
        "id": "MvVgIlfcm5uV"
      },
      "execution_count": 10,
      "outputs": []
    }
  ]
}