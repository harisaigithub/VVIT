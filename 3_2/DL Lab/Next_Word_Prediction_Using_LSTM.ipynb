{
  "cells": [
    {
      "cell_type": "code",
      "execution_count": null,
      "id": "6134200d",
      "metadata": {
        "id": "6134200d"
      },
      "outputs": [],
      "source": [
        "import numpy as np\n",
        "import tensorflow as tf\n",
        "from tensorflow.keras.preprocessing.text import Tokenizer\n",
        "from tensorflow.keras.preprocessing.sequence import pad_sequences\n",
        "from tensorflow.keras.models import Sequential\n",
        "from tensorflow.keras.layers import Embedding, LSTM, Dense\n",
        "\n",
        "# Reading corpus the text file\n",
        "with open(\"/content/sample_data/IndiaUS.txt\", 'r', encoding='utf-8') as myfile:\n",
        "    mytext = myfile.read()"
      ]
    },
    {
      "cell_type": "code",
      "execution_count": null,
      "id": "ef3afb16",
      "metadata": {
        "colab": {
          "base_uri": "https://localhost:8080/",
          "height": 191
        },
        "id": "ef3afb16",
        "outputId": "351de75c-d22d-4f25-8665-534aaaa711de"
      },
      "outputs": [
        {
          "output_type": "execute_result",
          "data": {
            "text/plain": [
              "'Following a lavish state visit by Indian Prime Minister Narendra Modi to Washington, US President Joe Biden has called his country\\'s partnership with India among the \"most consequential in the world\". The BBC\\'s Vikas Pandey and Soutik Biswas explore the factors that contribute to the visit\\'s potential in strengthening the ties between the two nations.\\n\\nThe US\\'s relationship with India - the world\\'s most populous country - is \"stronger, closer and more dynamic than any time in history\", Mr Biden said at the completion of a pomp-filled state visit by Mr Modi to the White House.\\n\\nThe remark may not be an exaggeration. \"This summit suggests that the relationship has been transformed. It underscores just how broad and deep it has become in a relatively short time,\" says Michael Kugelman of The Wilson Center, an American think-tank.\\n\\nA key reason is that Washington is keen to draw India closer so that it can act as a counterbalance to China\\'s growing influence in the Indo-Pacific. India-US ties had not lived up to their promise following a landmark civilian nuclear deal in 2005 because a liability law passed by India three years later hobbled purchase of reactors.\\n\\n\"This followed a fading commitment to the relationship during [former prime minister] Manmohan Singh\\'s second term as the leader of a coalition government. With Mr Modi there has been a lot more enthusiasm about embracing the US. Mr Biden has also given an overall broad directive to make it work,\" says Seema Sirohi, author of Friends With Benefits: The India-US Story.\\n\\nMs Sirohi says the US put in a \"lot of effort to make Mr Modi\\'s visit substantive and have a lot of deliverables\". Defence-industrial cooperation and technology topped the list. Consider this:\\n\\nGeneral Electric and India\\'s state-owned Hindustan Aeronautics Limited will make in India advanced fighter jet engines for the country\\'s indigenous light combat aircraft. This means a \"greater transfer of US jet engine technology than ever before\" - a clear sign that Washington not only wants to sell arms to India but is also comfortable with sharing military technology.\\nIndia will proceed with a $3bn purchase of the battle-tested MQ-9B Predator drones from General Atomics, which will also set up a facility in India. The drones will be assembled in India, which fits into Mr Modi\\'s \\'Make in India\\' campaign. The US supplies only 11% of India\\'s arms - Russia is the biggest (45%) supplier - but hopes to become the primary provider in the coming years. Mr Kugelman says Washington\\'s immediate goal is to \"strengthen India\\'s military capacity to counter China\".\\nMr Modi wants to make India a semiconductor base. US memory chip giant Micron Technology will invest up to $825m to build a semiconductor assembly and test facility in India, creating thousands of jobs.\\nUS semiconductor equipment maker Lam Research will train 60,000 Indian engineers through a network of interconnected labs and research centres to speed up India\\'s semiconductor education and workforce development. Also Applied Materials, the biggest maker of machines for producing semiconductors, will invest $400m to establish an engineering centre in India.\\n\"It is all about the future now. Both sides are talking about cutting-edge technologies and how to seed and shape the future,\" says Ms Sirohi.\\n\\n: U.S. President Joe Biden and first lady Jill Biden welcome India Prime Minister Narendra Modi to the White House on June 21, 2023 in Washington, DC\\nMr Biden and Mrs Biden welcome Mr Modi to the White House\\nThe India-US relationship has seen many ups and downs since the US seriously began courting India - first under President Bill Clinton and then under the George Bush administration. The response from India was measured, never overeager or too forthcoming.\\n\\nThe reason was the way India saw geopolitics and its own place in the global order. The strategy of nonalignment, started by India\\'s first prime minister Jawaharlal Nehru, has always been deeply rooted into India\\'s foreign policy.\\n\\nIndia never wanted to be seen in one camp or the other, or to be seen as junior strategic partner to a global superpower. Mr Modi has not left the ideals of what some describe as \"strategic altruism\" in Indian foreign policy.\\n\\nBut Mr Modi is leading a different kind of India, one which has considerably more economic and geopolitical heft. He has owned the India-US relations - he formed close bonds with former presidents Barack Obama and Donald Trump and now with Mr Biden.\\n\\nBut India\\'s \"strategic autonomy\" has not been sacrificed. Washington would have wanted India to go a step further on Russia and probably take a harder public stand on China.\\n\\nBut the Biden administration didn\\'t seem disappointed as Mr Modi repeated his line that \"this was not the era of war\" without mentioning Russia. The Indian prime minister did speak about the importance of beefing up humanitarian assistance to Ukraine. He didn\\'t mention China by name either but did talk about the importance of a free and prosperous Indo-Pacific.\\n\\nThis is how far Mr Modi could have pushed his administration\\'s policy without compromising on strategic autonomy. It may not have been the ideal way for Washington but it didn\\'t come in the way of making Mr Modi\\'s visit a success.\\n\\nThe United States Air Force (USAF) and Indian Air Force (IAF) personnel are posing in front of a United States Air Force (USAF) F-15 Eagle fighter jet during the joint \\'Exercise Cope India 2023\\' at the air force station in Kalaikunda, around 170 km west of Kolkata, on April 24th, 2023. \\nUS and Indian air force personnel pose in front of a US fighter jet during a joint exercise in India in April\\n\"The two militaries are working more closely together. They now have arrangements in place where they could use each other\\'s facilities for refuelling and maintenance purposes. They are holding joint exercises and they\\'re sharing a lot more intelligence. Credit to Mr Modi for managing to really test the limits of strategic autonomy. In the sense that he is getting about as close as you can to a major power without signing on to a full-fledged alliance,\" Mr Kugelman says.\\n\\nIndia and the US have had major trade differences in recent years over tariffs. Trade relations particularly suffered during the Trump administration.\\n\\nThe two sides were not expected to announce anything major in trade as it was understood that the discussions over that could continue later without overshadowing the visit.\\n\\nBut surprisingly, the two sides announced that six separate trade disputes at the World Trade Organization were resolved, including one that involved tariffs.\\n\\nThe US is now India\\'s top trading partner at $130bn in goods and Delhi is Washington\\'s eighth largest partner. While these numbers are impressive, analysts and policymakers feel there is a huge untapped potential. India is also a burgeoning market with an expanding middle class and it\\'s been positioning itself as an alternative to China to become a manufacturing hub for the world.\\n\\nPresident Joe Biden and Indian Prime Minister Narendra Modi participate in an arrival ceremony on the South Lawn of the White House on Thursday, June 22, 2023 in Washington, DC. President Biden is the first U.S. President to invite Prime Minister Modi for an official state visit\\nSome 2.7 million Indians live in the US\\nMany global firms and nations are interested in the proposal as they look to free the global supply chain from China\\'s dominance. In that context, the resolution of trade disputes will give further impetus to unlocking the full potential of India-US trade ties. Mr Modi has said that \"even sky is not the limit (for India-US) ties\".\\n\\nCritics in Washington have questioned India\\'s \"democratic backsliding\" under Mr Modi and his Hindu nationalist Bharatiya Janata Party (BJP). Mr Obama, in a television interview this week, emphasised the significance of addressing the \"protection of the Muslim minority in a predominantly Hindu India\" during discussions between Mr Biden and Mr Modi. \"The progressives in the Democratic Party are disturbed by what is happening in India. The realists and centrists are all for strengthening the relationship because of the China factor,\" says Ms Sirohi.\\n\\nBut on the whole, there is a bipartisan agreement to make the relationship deeper and broader. \"The India-US strategic partnership has certainly moved to the next level. It\\'s one of mutual need and mutual benefit,\" says Ms Sirohi.'"
            ],
            "application/vnd.google.colaboratory.intrinsic+json": {
              "type": "string"
            }
          },
          "metadata": {},
          "execution_count": 2
        }
      ],
      "source": [
        "mytext"
      ]
    },
    {
      "cell_type": "code",
      "execution_count": null,
      "id": "3f0d8c7b",
      "metadata": {
        "id": "3f0d8c7b"
      },
      "outputs": [],
      "source": [
        "mytokenizer = Tokenizer()\n",
        "mytokenizer.fit_on_texts([mytext])\n",
        "total_words = len(mytokenizer.word_index) + 1"
      ]
    },
    {
      "cell_type": "code",
      "execution_count": null,
      "id": "c67d349f",
      "metadata": {
        "id": "c67d349f"
      },
      "outputs": [],
      "source": [
        "print(total_words)\n",
        "mytokenizer.word_index"
      ]
    },
    {
      "cell_type": "code",
      "execution_count": null,
      "id": "c4c696fe",
      "metadata": {
        "id": "c4c696fe"
      },
      "outputs": [],
      "source": [
        "my_input_sequences = []\n",
        "for line in mytext.split('\\n'):\n",
        "    #print(line)\n",
        "    token_list = mytokenizer.texts_to_sequences([line])[0]\n",
        "    #print(token_list)\n",
        "    for i in range(1, len(token_list)):\n",
        "        my_n_gram_sequence = token_list[:i+1]\n",
        "        #print(my_n_gram_sequence)\n",
        "        my_input_sequences.append(my_n_gram_sequence)\n",
        "        print(input_sequences)"
      ]
    },
    {
      "cell_type": "code",
      "execution_count": null,
      "id": "bd13dce9",
      "metadata": {
        "id": "bd13dce9"
      },
      "outputs": [],
      "source": [
        "max_sequence_len = max([len(seq) for seq in my_input_sequences])\n",
        "input_sequences = np.array(pad_sequences(my_input_sequences, maxlen=max_sequence_len, padding='pre'))"
      ]
    },
    {
      "cell_type": "code",
      "execution_count": null,
      "id": "cf398edc",
      "metadata": {
        "colab": {
          "base_uri": "https://localhost:8080/"
        },
        "id": "cf398edc",
        "outputId": "5a99b543-76bf-475e-e592-36f4c293c956"
      },
      "outputs": [
        {
          "output_type": "execute_result",
          "data": {
            "text/plain": [
              "array([  0,   0,   0,   0,   0,   0,   0,   0,   0,   0,   0,   0,   0,\n",
              "         0,   0,   0,   0,   0,   0,   0,   0,   0,   0,   0,   0,   0,\n",
              "         0,   0,   0,   0,   0,   0,   0,   0,   0,   0,   0,   0,   0,\n",
              "         0,   0,   0,   0,   0,   0,   0,   0,   0,   0,   0,   0,   0,\n",
              "         0,   0,   0,   0,   0,   0,   0,   0,   0,   0,   0,   0,   0,\n",
              "         0,   0,   0,   0,   0,   0,   0,   0,   0,   0,   0,   0,   0,\n",
              "         0,   0,  99,   4, 177], dtype=int32)"
            ]
          },
          "metadata": {},
          "execution_count": 27
        }
      ],
      "source": [
        "input_sequences[1]"
      ]
    },
    {
      "cell_type": "code",
      "execution_count": null,
      "id": "ce62fdd7",
      "metadata": {
        "id": "ce62fdd7"
      },
      "outputs": [],
      "source": [
        "X = input_sequences[:, :-1]\n",
        "y = input_sequences[:, -1]"
      ]
    },
    {
      "cell_type": "code",
      "execution_count": null,
      "id": "6385ea38",
      "metadata": {
        "colab": {
          "base_uri": "https://localhost:8080/"
        },
        "id": "6385ea38",
        "outputId": "dccba6e4-543d-427d-d1b4-984d7c3dbde1"
      },
      "outputs": [
        {
          "output_type": "execute_result",
          "data": {
            "text/plain": [
              "array([ 0,  0,  0,  0,  0,  0,  0,  0,  0,  0,  0,  0,  0,  0,  0,  0,  0,\n",
              "        0,  0,  0,  0,  0,  0,  0,  0,  0,  0,  0,  0,  0,  0,  0,  0,  0,\n",
              "        0,  0,  0,  0,  0,  0,  0,  0,  0,  0,  0,  0,  0,  0,  0,  0,  0,\n",
              "        0,  0,  0,  0,  0,  0,  0,  0,  0,  0,  0,  0,  0,  0,  0,  0,  0,\n",
              "        0,  0,  0,  0,  0,  0,  0,  0,  0,  0,  0,  0, 99,  4],\n",
              "      dtype=int32)"
            ]
          },
          "metadata": {},
          "execution_count": 30
        }
      ],
      "source": [
        "X[1]"
      ]
    },
    {
      "cell_type": "code",
      "execution_count": null,
      "id": "bc113505",
      "metadata": {
        "colab": {
          "base_uri": "https://localhost:8080/"
        },
        "id": "bc113505",
        "outputId": "b63d2df1-7192-44a6-af26-d5533b3ad3f0"
      },
      "outputs": [
        {
          "output_type": "execute_result",
          "data": {
            "text/plain": [
              "177"
            ]
          },
          "metadata": {},
          "execution_count": 31
        }
      ],
      "source": [
        "y[1]"
      ]
    },
    {
      "cell_type": "code",
      "execution_count": null,
      "id": "2ef255b4",
      "metadata": {
        "id": "2ef255b4"
      },
      "outputs": [],
      "source": [
        "y = np.array(tf.keras.utils.to_categorical(y, num_classes=total_words))"
      ]
    },
    {
      "cell_type": "code",
      "execution_count": null,
      "id": "1e13587e",
      "metadata": {
        "id": "1e13587e"
      },
      "outputs": [],
      "source": [
        "y[0]"
      ]
    },
    {
      "cell_type": "code",
      "execution_count": null,
      "id": "28ac495c",
      "metadata": {
        "colab": {
          "base_uri": "https://localhost:8080/"
        },
        "id": "28ac495c",
        "outputId": "e5edb375-1a0c-4fe8-e312-1b8857a7c0e8"
      },
      "outputs": [
        {
          "output_type": "stream",
          "name": "stdout",
          "text": [
            "Model: \"sequential\"\n",
            "_________________________________________________________________\n",
            " Layer (type)                Output Shape              Param #   \n",
            "=================================================================\n",
            " embedding (Embedding)       (None, 82, 100)           59900     \n",
            "                                                                 \n",
            " lstm (LSTM)                 (None, 150)               150600    \n",
            "                                                                 \n",
            " dense (Dense)               (None, 599)               90449     \n",
            "                                                                 \n",
            "=================================================================\n",
            "Total params: 300949 (1.15 MB)\n",
            "Trainable params: 300949 (1.15 MB)\n",
            "Non-trainable params: 0 (0.00 Byte)\n",
            "_________________________________________________________________\n",
            "None\n"
          ]
        }
      ],
      "source": [
        "model = Sequential()\n",
        "model.add(Embedding(total_words, 100, input_length=max_sequence_len-1))\n",
        "model.add(LSTM(150))\n",
        "model.add(Dense(total_words, activation='softmax'))\n",
        "print(model.summary())"
      ]
    },
    {
      "cell_type": "code",
      "execution_count": null,
      "id": "912b7746",
      "metadata": {
        "id": "912b7746"
      },
      "outputs": [],
      "source": [
        "model.compile(loss='categorical_crossentropy', optimizer='adam', metrics=['accuracy'])\n",
        "model.fit(X, y, epochs=100, verbose=1)"
      ]
    },
    {
      "cell_type": "code",
      "execution_count": null,
      "id": "dc30fe17",
      "metadata": {
        "id": "dc30fe17"
      },
      "outputs": [],
      "source": [
        "input_text = \"Joe biden\"\n",
        "predict_next_words= 6\n",
        "\n",
        "for _ in range(predict_next_words):\n",
        "    token_list = mytokenizer.texts_to_sequences([input_text])[0]\n",
        "    print(token_list)\n",
        "    token_list = pad_sequences([token_list], maxlen=max_sequence_len-1, padding='pre')\n",
        "    predicted = np.argmax(model.predict(token_list), axis=-1)\n",
        "    output_word = \"\"\n",
        "    for word, index in mytokenizer.word_index.items():\n",
        "        if index == predicted:\n",
        "            output_word = word\n",
        "            break\n",
        "    input_text += \" \" + output_word\n",
        "\n",
        "print(input_text)"
      ]
    },
    {
      "cell_type": "code",
      "source": [
        "input_text = \"Joe biden\"\n",
        "predict_next_words= 6\n",
        "for _ in range(predict_next_words):\n",
        "    token_list = mytokenizer.texts_to_sequences([input_text])[0]\n",
        "    print(token_list)\n",
        "    token_list = pad_sequences([token_list], maxlen=max_sequence_len-1, padding='pre')\n",
        "    predicted = model.predict(token_list)"
      ],
      "metadata": {
        "id": "7ghG-aK6y0To"
      },
      "id": "7ghG-aK6y0To",
      "execution_count": null,
      "outputs": []
    },
    {
      "cell_type": "code",
      "execution_count": null,
      "id": "c2b46fa7",
      "metadata": {
        "colab": {
          "base_uri": "https://localhost:8080/"
        },
        "id": "c2b46fa7",
        "outputId": "e533b761-6095-42de-a670-7cc6dcbbc474"
      },
      "outputs": [
        {
          "output_type": "execute_result",
          "data": {
            "text/plain": [
              "5"
            ]
          },
          "metadata": {},
          "execution_count": 46
        }
      ],
      "source": [
        "predicted.argmax()"
      ]
    }
  ],
  "metadata": {
    "kernelspec": {
      "display_name": "Python 3 (ipykernel)",
      "language": "python",
      "name": "python3"
    },
    "language_info": {
      "codemirror_mode": {
        "name": "ipython",
        "version": 3
      },
      "file_extension": ".py",
      "mimetype": "text/x-python",
      "name": "python",
      "nbconvert_exporter": "python",
      "pygments_lexer": "ipython3",
      "version": "3.9.15"
    },
    "colab": {
      "provenance": []
    }
  },
  "nbformat": 4,
  "nbformat_minor": 5
}