{
  "nbformat": 4,
  "nbformat_minor": 0,
  "metadata": {
    "colab": {
      "provenance": [],
      "gpuType": "T4"
    },
    "kernelspec": {
      "name": "python3",
      "display_name": "Python 3"
    },
    "language_info": {
      "name": "python"
    },
    "accelerator": "GPU"
  },
  "cells": [
    {
      "cell_type": "code",
      "execution_count": null,
      "metadata": {
        "id": "pnDnPVSfg-8w"
      },
      "outputs": [],
      "source": [
        "from keras.models import Model\n",
        "from keras.layers import Input, LSTM, Dense,Embedding,RepeatVector\n",
        "import numpy as np\n",
        "from keras.preprocessing.sequence import pad_sequences\n",
        "from keras.models import load_model\n",
        "from keras import optimizers\n",
        "from numpy import array,random,take\n",
        "\n",
        "import string\n",
        "import re\n",
        "from keras.preprocessing.text import Tokenizer\n",
        "from keras.models import Sequential"
      ]
    },
    {
      "cell_type": "code",
      "source": [
        "from numpy import argmax"
      ],
      "metadata": {
        "id": "6cGbfc-I-sA2"
      },
      "execution_count": null,
      "outputs": []
    },
    {
      "cell_type": "code",
      "source": [
        "data_path='/content/sample_data/fra-eng/fra.txt'\n",
        "with open(data_path, 'r', encoding='utf-8') as f:\n",
        "  lines = f.read()"
      ],
      "metadata": {
        "id": "5xdPJHkui0oP"
      },
      "execution_count": null,
      "outputs": []
    },
    {
      "cell_type": "code",
      "source": [
        "lines\n"
      ],
      "metadata": {
        "id": "WxJavUq9jHV-"
      },
      "execution_count": null,
      "outputs": []
    },
    {
      "cell_type": "code",
      "source": [
        "def to_lines(text):\n",
        "  sents=text.strip().split(\"\\n\")\n",
        "  sents=[i.split('\\t') for i in sents]\n",
        "  return sents"
      ],
      "metadata": {
        "id": "-jZQ8p0HkNQJ"
      },
      "execution_count": null,
      "outputs": []
    },
    {
      "cell_type": "code",
      "source": [
        "fra_eng=to_lines(lines)\n",
        "fra_eng[:5]"
      ],
      "metadata": {
        "colab": {
          "base_uri": "https://localhost:8080/"
        },
        "id": "VMqnym_CkuGY",
        "outputId": "f58f1bba-66d0-4f7d-ef90-86b2d83f79c4"
      },
      "execution_count": null,
      "outputs": [
        {
          "output_type": "execute_result",
          "data": {
            "text/plain": [
              "[['Go.',\n",
              "  'Va !',\n",
              "  'CC-BY 2.0 (France) Attribution: tatoeba.org #2877272 (CM) & #1158250 (Wittydev)'],\n",
              " ['Go.',\n",
              "  'Marche.',\n",
              "  'CC-BY 2.0 (France) Attribution: tatoeba.org #2877272 (CM) & #8090732 (Micsmithel)'],\n",
              " ['Go.',\n",
              "  'En route !',\n",
              "  'CC-BY 2.0 (France) Attribution: tatoeba.org #2877272 (CM) & #8267435 (felix63)'],\n",
              " ['Go.',\n",
              "  'Bouge !',\n",
              "  'CC-BY 2.0 (France) Attribution: tatoeba.org #2877272 (CM) & #9022935 (Micsmithel)'],\n",
              " ['Hi.',\n",
              "  'Salut !',\n",
              "  'CC-BY 2.0 (France) Attribution: tatoeba.org #538123 (CM) & #509819 (Aiji)']]"
            ]
          },
          "metadata": {},
          "execution_count": 5
        }
      ]
    },
    {
      "cell_type": "code",
      "source": [
        "fra_eng=array(fra_eng)\n",
        "fra_eng[:5]"
      ],
      "metadata": {
        "colab": {
          "base_uri": "https://localhost:8080/"
        },
        "id": "Kc1_YkQuk7eI",
        "outputId": "ed253c5e-7e73-4262-ab57-a7eaf93976e4"
      },
      "execution_count": null,
      "outputs": [
        {
          "output_type": "execute_result",
          "data": {
            "text/plain": [
              "array([['Go.', 'Va !',\n",
              "        'CC-BY 2.0 (France) Attribution: tatoeba.org #2877272 (CM) & #1158250 (Wittydev)'],\n",
              "       ['Go.', 'Marche.',\n",
              "        'CC-BY 2.0 (France) Attribution: tatoeba.org #2877272 (CM) & #8090732 (Micsmithel)'],\n",
              "       ['Go.', 'En route !',\n",
              "        'CC-BY 2.0 (France) Attribution: tatoeba.org #2877272 (CM) & #8267435 (felix63)'],\n",
              "       ['Go.', 'Bouge !',\n",
              "        'CC-BY 2.0 (France) Attribution: tatoeba.org #2877272 (CM) & #9022935 (Micsmithel)'],\n",
              "       ['Hi.', 'Salut !',\n",
              "        'CC-BY 2.0 (France) Attribution: tatoeba.org #538123 (CM) & #509819 (Aiji)']],\n",
              "      dtype='<U349')"
            ]
          },
          "metadata": {},
          "execution_count": 6
        }
      ]
    },
    {
      "cell_type": "code",
      "source": [
        "fra_eng.shape"
      ],
      "metadata": {
        "colab": {
          "base_uri": "https://localhost:8080/"
        },
        "id": "2ygyal4foBkP",
        "outputId": "01b2edfd-9e63-4c0b-9d6e-2e51991aa8e6"
      },
      "execution_count": null,
      "outputs": [
        {
          "output_type": "execute_result",
          "data": {
            "text/plain": [
              "(229803, 3)"
            ]
          },
          "metadata": {},
          "execution_count": 7
        }
      ]
    },
    {
      "cell_type": "code",
      "source": [
        "fra_eng=fra_eng[:50000,:]"
      ],
      "metadata": {
        "id": "LlPyZ-Uhoiqt"
      },
      "execution_count": null,
      "outputs": []
    },
    {
      "cell_type": "code",
      "source": [
        "fra_eng=fra_eng[:,[0,1]]\n",
        "fra_eng[:5]"
      ],
      "metadata": {
        "colab": {
          "base_uri": "https://localhost:8080/"
        },
        "id": "ya9xgCj0ow4t",
        "outputId": "5b3c13b1-870e-4f6e-ed06-2da26c60878a"
      },
      "execution_count": null,
      "outputs": [
        {
          "output_type": "execute_result",
          "data": {
            "text/plain": [
              "array([['Go.', 'Va !'],\n",
              "       ['Go.', 'Marche.'],\n",
              "       ['Go.', 'En route !'],\n",
              "       ['Go.', 'Bouge !'],\n",
              "       ['Hi.', 'Salut !']], dtype='<U349')"
            ]
          },
          "metadata": {},
          "execution_count": 9
        }
      ]
    },
    {
      "cell_type": "markdown",
      "source": [
        "DATA CLEANING"
      ],
      "metadata": {
        "id": "nmGMqvRUpA4r"
      }
    },
    {
      "cell_type": "code",
      "source": [
        "#REMOVE PUNCTUATION\n",
        "fra_eng[:,0]=[s.translate(str.maketrans('','',string.punctuation))for s in fra_eng[:,0] ]\n",
        "fra_eng[:,1]=[s.translate(str.maketrans('','',string.punctuation))for s in fra_eng[:,1] ]"
      ],
      "metadata": {
        "id": "7jF2l20cpGHI"
      },
      "execution_count": null,
      "outputs": []
    },
    {
      "cell_type": "code",
      "source": [
        "fra_eng[:5]"
      ],
      "metadata": {
        "colab": {
          "base_uri": "https://localhost:8080/"
        },
        "id": "9viP1rqspkUD",
        "outputId": "592c4f2b-a2e3-4903-af72-65072607980b"
      },
      "execution_count": null,
      "outputs": [
        {
          "output_type": "execute_result",
          "data": {
            "text/plain": [
              "array([['Go', 'Va '],\n",
              "       ['Go', 'Marche'],\n",
              "       ['Go', 'En route '],\n",
              "       ['Go', 'Bouge '],\n",
              "       ['Hi', 'Salut ']], dtype='<U349')"
            ]
          },
          "metadata": {},
          "execution_count": 11
        }
      ]
    },
    {
      "cell_type": "code",
      "source": [
        "#convert text to lower case\n",
        "for i in range(len(fra_eng)):\n",
        "  fra_eng[i,0]=fra_eng[i,0].lower()\n",
        "  fra_eng[i,1]=fra_eng[i,1].lower()\n",
        "fra_eng"
      ],
      "metadata": {
        "colab": {
          "base_uri": "https://localhost:8080/"
        },
        "id": "euZIe4Dfr7oS",
        "outputId": "915c2a2c-b8b7-4b09-a9b2-c3a153bba6f1"
      },
      "execution_count": null,
      "outputs": [
        {
          "output_type": "execute_result",
          "data": {
            "text/plain": [
              "array([['go', 'va '],\n",
              "       ['go', 'marche'],\n",
              "       ['go', 'en route '],\n",
              "       ...,\n",
              "       ['im right behind tom', 'je suis juste derrière tom'],\n",
              "       ['im right behind you', 'je suis juste derrière toi'],\n",
              "       ['im right behind you', 'je suis juste derrière vous']],\n",
              "      dtype='<U349')"
            ]
          },
          "metadata": {},
          "execution_count": 12
        }
      ]
    },
    {
      "cell_type": "code",
      "source": [],
      "metadata": {
        "id": "zdgHtdwatOsb"
      },
      "execution_count": null,
      "outputs": []
    },
    {
      "cell_type": "markdown",
      "source": [
        "text to sequence conversion(word to index mapping)\n",
        "1.convert sentences into numbers\n",
        "2.every sentence should be of same length"
      ],
      "metadata": {
        "id": "k7PGwOd0tUww"
      }
    },
    {
      "cell_type": "code",
      "source": [
        "#function to build a tokenizer\n",
        "def tokenization(lines):\n",
        "  tokenizer=Tokenizer()\n",
        "  tokenizer.fit_on_texts(lines)\n",
        "  return tokenizer\n",
        "#prepare english tokenizer\n",
        "eng_tokenizer=tokenization(fra_eng[:,0])\n",
        "eng_vocab_size=len(eng_tokenizer.word_index)+1\n",
        "eng_length=8\n",
        "print(eng_vocab_size)"
      ],
      "metadata": {
        "colab": {
          "base_uri": "https://localhost:8080/"
        },
        "id": "oN3Y2wRltzOg",
        "outputId": "b1803f93-5f1a-4b64-c804-4f3495722901"
      },
      "execution_count": null,
      "outputs": [
        {
          "output_type": "stream",
          "name": "stdout",
          "text": [
            "5954\n"
          ]
        }
      ]
    },
    {
      "cell_type": "code",
      "source": [
        "#prepare english tokenizer\n",
        "fra_tokenizer=tokenization(fra_eng[:,1])\n",
        "fra_vocab_size=len(fra_tokenizer.word_index)+1\n",
        "fra_length=8\n",
        "print(fra_vocab_size)\n"
      ],
      "metadata": {
        "colab": {
          "base_uri": "https://localhost:8080/"
        },
        "id": "oeHN0BeMxI6e",
        "outputId": "8bb9c1af-38bf-4b41-d94a-b3a77f1cbc74"
      },
      "execution_count": null,
      "outputs": [
        {
          "output_type": "stream",
          "name": "stdout",
          "text": [
            "13706\n"
          ]
        }
      ]
    },
    {
      "cell_type": "code",
      "source": [],
      "metadata": {
        "id": "ZcuCqDCuzbvO"
      },
      "execution_count": null,
      "outputs": []
    },
    {
      "cell_type": "code",
      "source": [
        "#encode and pad sequences\n",
        "def encode_sequences(tokenizer,length,lines):\n",
        "  #integer encode sequences\n",
        "  seq=tokenizer.texts_to_sequences(lines)\n",
        "  #pad sequences with 0\n",
        "  seq=pad_sequences(seq,maxlen=length,padding='post')\n",
        "  return seq\n"
      ],
      "metadata": {
        "id": "flFgcHB6xsSO"
      },
      "execution_count": null,
      "outputs": []
    },
    {
      "cell_type": "code",
      "source": [
        "from sklearn.model_selection import train_test_split\n",
        "train,test=train_test_split(fra_eng,test_size=0.2,random_state=3)\n"
      ],
      "metadata": {
        "id": "BgidacgbzB1S"
      },
      "execution_count": null,
      "outputs": []
    },
    {
      "cell_type": "code",
      "source": [
        "#prepare training data\n",
        "trainX=encode_sequences(fra_tokenizer,fra_length,train[:,1])\n",
        "trainY=encode_sequences(eng_tokenizer,eng_length,train[:,0])\n",
        "#prepare validation data\n",
        "testX=encode_sequences(fra_tokenizer,fra_length,test[:,1])\n",
        "testY=encode_sequences(eng_tokenizer,eng_length,test[:,0])"
      ],
      "metadata": {
        "id": "66Ji9axKzf48"
      },
      "execution_count": null,
      "outputs": []
    },
    {
      "cell_type": "markdown",
      "source": [
        "define seq2seq2 model"
      ],
      "metadata": {
        "id": "zHEQJCCF1QZy"
      }
    },
    {
      "cell_type": "code",
      "source": [
        "def define_model(in_vocab,out_vocab,in_timesteps,out_timesteps,units):\n",
        "  model=Sequential()\n",
        "  model.add(Embedding(in_vocab,units,input_length=in_timesteps,mask_zero='True'))\n",
        "  model.add(LSTM(units))\n",
        "  model.add(RepeatVector(out_timesteps))\n",
        "  model.add(LSTM(units,return_sequences='True'))\n",
        "  model.add(Dense(out_vocab,activation=\"softmax\"))\n",
        "  return model\n"
      ],
      "metadata": {
        "id": "aKSV0z460VUz"
      },
      "execution_count": null,
      "outputs": []
    },
    {
      "cell_type": "code",
      "source": [
        "model=define_model(fra_vocab_size,eng_vocab_size,fra_length,eng_length,512)\n",
        "rms=optimizers.RMSprop(learning_rate=0.001)\n",
        "model.compile(optimizer=rms,loss='sparse_categorical_crossentropy')"
      ],
      "metadata": {
        "id": "G7wo_3Aj45ix"
      },
      "execution_count": null,
      "outputs": []
    },
    {
      "cell_type": "code",
      "source": [
        "#train the model\n",
        "model.fit(trainX,trainY.reshape(trainY.shape[0],trainY.shape[1],1),\n",
        "          batch_size=512,\n",
        "          epochs=50,\n",
        "          validation_split=0.2)"
      ],
      "metadata": {
        "colab": {
          "base_uri": "https://localhost:8080/"
        },
        "id": "Jl1YvG486mT8",
        "outputId": "852f8efe-ab39-4c13-f4fe-d32f2233ad56"
      },
      "execution_count": null,
      "outputs": [
        {
          "output_type": "stream",
          "name": "stdout",
          "text": [
            "Epoch 1/50\n",
            "63/63 [==============================] - 13s 116ms/step - loss: 4.2239 - val_loss: 3.1206\n",
            "Epoch 2/50\n",
            "63/63 [==============================] - 4s 68ms/step - loss: 2.8938 - val_loss: 2.7815\n",
            "Epoch 3/50\n",
            "63/63 [==============================] - 4s 70ms/step - loss: 2.7442 - val_loss: 2.7589\n",
            "Epoch 4/50\n",
            "63/63 [==============================] - 4s 71ms/step - loss: 2.6972 - val_loss: 2.6929\n",
            "Epoch 5/50\n",
            "63/63 [==============================] - 4s 61ms/step - loss: 2.6672 - val_loss: 2.6707\n",
            "Epoch 6/50\n",
            "63/63 [==============================] - 4s 61ms/step - loss: 2.6493 - val_loss: 2.6671\n",
            "Epoch 7/50\n",
            "63/63 [==============================] - 4s 63ms/step - loss: 2.6277 - val_loss: 2.6418\n",
            "Epoch 8/50\n",
            "63/63 [==============================] - 4s 62ms/step - loss: 2.6119 - val_loss: 2.6326\n",
            "Epoch 9/50\n",
            "63/63 [==============================] - 4s 62ms/step - loss: 2.5975 - val_loss: 2.6313\n",
            "Epoch 10/50\n",
            "63/63 [==============================] - 4s 66ms/step - loss: 2.5768 - val_loss: 2.5874\n",
            "Epoch 11/50\n",
            "63/63 [==============================] - 4s 62ms/step - loss: 2.5514 - val_loss: 2.5650\n",
            "Epoch 12/50\n",
            "63/63 [==============================] - 4s 63ms/step - loss: 2.5292 - val_loss: 2.5480\n",
            "Epoch 13/50\n",
            "63/63 [==============================] - 4s 62ms/step - loss: 2.5110 - val_loss: 2.5294\n",
            "Epoch 14/50\n",
            "63/63 [==============================] - 4s 66ms/step - loss: 2.4945 - val_loss: 2.5125\n",
            "Epoch 15/50\n",
            "63/63 [==============================] - 4s 64ms/step - loss: 2.4762 - val_loss: 2.5165\n",
            "Epoch 16/50\n",
            "63/63 [==============================] - 4s 62ms/step - loss: 2.4603 - val_loss: 2.4848\n",
            "Epoch 17/50\n",
            "63/63 [==============================] - 4s 60ms/step - loss: 2.4438 - val_loss: 2.4681\n",
            "Epoch 18/50\n",
            "63/63 [==============================] - 4s 61ms/step - loss: 2.4261 - val_loss: 2.4529\n",
            "Epoch 19/50\n",
            "63/63 [==============================] - 4s 63ms/step - loss: 2.4120 - val_loss: 2.4547\n",
            "Epoch 20/50\n",
            "63/63 [==============================] - 4s 60ms/step - loss: 2.3979 - val_loss: 2.4274\n",
            "Epoch 21/50\n",
            "63/63 [==============================] - 4s 60ms/step - loss: 2.3835 - val_loss: 2.4441\n",
            "Epoch 22/50\n",
            "63/63 [==============================] - 4s 61ms/step - loss: 2.3703 - val_loss: 2.4062\n",
            "Epoch 23/50\n",
            "63/63 [==============================] - 4s 62ms/step - loss: 2.3560 - val_loss: 2.3849\n",
            "Epoch 24/50\n",
            "63/63 [==============================] - 4s 59ms/step - loss: 2.3367 - val_loss: 2.3669\n",
            "Epoch 25/50\n",
            "63/63 [==============================] - 4s 60ms/step - loss: 2.3144 - val_loss: 2.3471\n",
            "Epoch 26/50\n",
            "63/63 [==============================] - 4s 61ms/step - loss: 2.2953 - val_loss: 2.3278\n",
            "Epoch 27/50\n",
            "63/63 [==============================] - 4s 59ms/step - loss: 2.2721 - val_loss: 2.3495\n",
            "Epoch 28/50\n",
            "63/63 [==============================] - 4s 60ms/step - loss: 2.2559 - val_loss: 2.3045\n",
            "Epoch 29/50\n",
            "63/63 [==============================] - 4s 62ms/step - loss: 2.2379 - val_loss: 2.2851\n",
            "Epoch 30/50\n",
            "63/63 [==============================] - 4s 61ms/step - loss: 2.2197 - val_loss: 2.2668\n",
            "Epoch 31/50\n",
            "63/63 [==============================] - 4s 61ms/step - loss: 2.2028 - val_loss: 2.2582\n",
            "Epoch 32/50\n",
            "63/63 [==============================] - 4s 63ms/step - loss: 2.1891 - val_loss: 2.2449\n",
            "Epoch 33/50\n",
            "63/63 [==============================] - 4s 61ms/step - loss: 2.1711 - val_loss: 2.2312\n",
            "Epoch 34/50\n",
            "63/63 [==============================] - 4s 60ms/step - loss: 2.1558 - val_loss: 2.2326\n",
            "Epoch 35/50\n",
            "63/63 [==============================] - 4s 63ms/step - loss: 2.1402 - val_loss: 2.2017\n",
            "Epoch 36/50\n",
            "63/63 [==============================] - 4s 61ms/step - loss: 2.1221 - val_loss: 2.1945\n",
            "Epoch 37/50\n",
            "63/63 [==============================] - 4s 61ms/step - loss: 2.1064 - val_loss: 2.1705\n",
            "Epoch 38/50\n",
            "63/63 [==============================] - 4s 63ms/step - loss: 2.0877 - val_loss: 2.1562\n",
            "Epoch 39/50\n",
            "63/63 [==============================] - 4s 60ms/step - loss: 2.0664 - val_loss: 2.1412\n",
            "Epoch 40/50\n",
            "63/63 [==============================] - 4s 60ms/step - loss: 2.0510 - val_loss: 2.1383\n",
            "Epoch 41/50\n",
            "63/63 [==============================] - 4s 61ms/step - loss: 2.0289 - val_loss: 2.1198\n",
            "Epoch 42/50\n",
            "63/63 [==============================] - 4s 64ms/step - loss: 2.0112 - val_loss: 2.1522\n",
            "Epoch 43/50\n",
            "63/63 [==============================] - 4s 60ms/step - loss: 1.9910 - val_loss: 2.0901\n",
            "Epoch 44/50\n",
            "63/63 [==============================] - 4s 62ms/step - loss: 1.9738 - val_loss: 2.0565\n",
            "Epoch 45/50\n",
            "63/63 [==============================] - 4s 61ms/step - loss: 1.9489 - val_loss: 2.0709\n",
            "Epoch 46/50\n",
            "63/63 [==============================] - 4s 60ms/step - loss: 1.9338 - val_loss: 2.0320\n",
            "Epoch 47/50\n",
            "63/63 [==============================] - 4s 69ms/step - loss: 1.9128 - val_loss: 2.0177\n",
            "Epoch 48/50\n",
            "63/63 [==============================] - 4s 62ms/step - loss: 1.8947 - val_loss: 2.0250\n",
            "Epoch 49/50\n",
            "63/63 [==============================] - 4s 61ms/step - loss: 1.8770 - val_loss: 1.9909\n",
            "Epoch 50/50\n",
            "63/63 [==============================] - 4s 67ms/step - loss: 1.8559 - val_loss: 1.9752\n"
          ]
        },
        {
          "output_type": "execute_result",
          "data": {
            "text/plain": [
              "<keras.src.callbacks.History at 0x77fcd63f8340>"
            ]
          },
          "metadata": {},
          "execution_count": 52
        }
      ]
    },
    {
      "cell_type": "code",
      "source": [],
      "metadata": {
        "id": "KpECGuqi9TuM"
      },
      "execution_count": null,
      "outputs": []
    },
    {
      "cell_type": "code",
      "source": [
        "pred=model.predict(testX.reshape(testX.shape[0],testX.shape[1],1))"
      ],
      "metadata": {
        "colab": {
          "base_uri": "https://localhost:8080/"
        },
        "id": "NrRZbcCJ8ZRH",
        "outputId": "42c82845-f197-44d1-d431-78b84c813511"
      },
      "execution_count": null,
      "outputs": [
        {
          "output_type": "stream",
          "name": "stdout",
          "text": [
            "313/313 [==============================] - 3s 4ms/step\n"
          ]
        }
      ]
    },
    {
      "cell_type": "code",
      "source": [
        "#Get the predicted classes from the predicted probabilities\n",
        "predicted_classes = pred.argmax(axis=1)"
      ],
      "metadata": {
        "id": "tBnV7RaK9VLU"
      },
      "execution_count": null,
      "outputs": []
    },
    {
      "cell_type": "code",
      "source": [
        "predicted_classes"
      ],
      "metadata": {
        "colab": {
          "base_uri": "https://localhost:8080/"
        },
        "id": "6rSKY8e09rlj",
        "outputId": "7d9a64ab-6132-4fb2-8fa5-d9be239f4949"
      },
      "execution_count": null,
      "outputs": [
        {
          "output_type": "execute_result",
          "data": {
            "text/plain": [
              "array([[7, 0, 3, ..., 3, 1, 1],\n",
              "       [7, 0, 2, ..., 2, 2, 2],\n",
              "       [7, 1, 2, ..., 1, 1, 1],\n",
              "       ...,\n",
              "       [7, 2, 4, ..., 3, 1, 1],\n",
              "       [7, 1, 2, ..., 2, 1, 1],\n",
              "       [7, 0, 3, ..., 3, 2, 2]])"
            ]
          },
          "metadata": {},
          "execution_count": 55
        }
      ]
    },
    {
      "cell_type": "code",
      "source": [
        "def get_words(n,tokenizer):\n",
        "  for word,index in tokenizer.word_index.items():\n",
        "    if index==n:\n",
        "      return word\n",
        "    return None\n"
      ],
      "metadata": {
        "id": "0EFQevkXAKKA"
      },
      "execution_count": null,
      "outputs": []
    },
    {
      "cell_type": "code",
      "source": [
        "pred_text=[]\n",
        "for i in predicted_classes:\n",
        "  temp=[]\n",
        "  for j in range(len(i)):\n",
        "    t=get_words(i[j],eng_tokenizer)\n",
        "    if j>0:\n",
        "      if((t==get_words(i[j-1],eng_tokenizer)) or (t==None)):\n",
        "        temp.append('')\n",
        "      else:\n",
        "        temp.append(t)\n",
        "    else:\n",
        "      if(t==None):\n",
        "        temp.append('')\n",
        "      else:\n",
        "        temp.append(t)\n",
        "  pred_text.append(' '.join(temp))\n"
      ],
      "metadata": {
        "id": "NuquEhOsArbj"
      },
      "execution_count": null,
      "outputs": []
    },
    {
      "cell_type": "code",
      "source": [
        "pred_text[5]"
      ],
      "metadata": {
        "colab": {
          "base_uri": "https://localhost:8080/",
          "height": 226
        },
        "id": "yJ7ONr7LEnoC",
        "outputId": "ecd0fefd-3c07-46da-a2a8-1b6fff1896ef"
      },
      "execution_count": null,
      "outputs": [
        {
          "output_type": "execute_result",
          "data": {
            "text/plain": [
              "'     i        i    i       i                 i   i          i  i  i  i       i    i    i  i  i     i    i    i   i      i  i  i    i  i   i        i   i      i    i  i    i  i      i    i      i      i        i    i         i         i    i   i    i  i  i   i   i    i    i   i   i   i       i      i   i  i    i  i  i  i      i  i   i  i  i     i     i     i  i   i  i   i  i   i     i     i       i    i      i  i  i   i          i   i   i   i     i   i    i     i   i     i    i      i      i       i  i    i   i  i         i   i      i  i  i   i  i    i  i      i  i  i  i     i     i      i   i    i       i  i     i   i  i  i      i   i      i   i        i   i  i        i   i    i       i   i  i   i  i   i    i   i      i       i  i        i     i   i      i      i  i   i  i   i         i        i       i           i       i    i    i           i    i   i    i  i  i       i  i     i   i      i  i     i  i    i    i  i    i  i     i        i  i  i        i   i   i       i      i  i  i   i     i   i   i  i  i  i   i    i      i     i     i  i        i     i    i     i   i  i  i    i  i     i  i    i       i   i   i  i            i   i     i  i   i    i  i     i    i    i    i   i    i   i  i  i  i    i     i  i     i  i     i      i    i  i  i           i  i  i   i  i   i     i  i   i   i        i   i  i     i   i   i   i     i   i  i         i  i  i  i         i      i      i   i       i        i     i       i  i   i   i    i   i      i  i     i    i    i   i  i    i      i     i    i   i        i      i  i  i    i     i      i    i       i  i    i       i   i  i    i    i     i   i       i  i  i    i  i   i   i        i   i  i  i        i      i    i   i        i    i      i   i   i    i     i   i     i       i   i   i      i                i    i  i     i     i     i  i   i  i  i       i  i  i      i     i      i        i   i  i   i         i      i     i   i  i   i       i  i    i    i  i     i   i   i       i  i  i        i         i     i    i   i  i  i    i    i   i         i       i    i     i       i   i  i     i    i   i      i  i       i    i  i   i  i     i   i  i   i       i  i  i  i  i  i    i     i       i  i   i    i      i   i  i   i       i    i     i    i      i    i    i            i     i  i      i         i  i   i      i    i   i  i   i  i  i           i       i      i     i    i    i    i   i     i       i    i    i    i   i     i  i  i    i    i         i    i        i   i   i      i  i       i     i   i  i  i  i  i   i    i    i         i  i    i      i     i        i     i     i     i   i   i   i   i   i       i  i       i   i  i     i  i         i           i     i       i   i     i       i     i    i    i   i     i   i   i        i  i     i    i     i  i  i   i        i     i  i       i               i     i    i            i   i  i   i     i  i  i      i     i   i   i  i   i  i  i  i     i  i   i  i    i    i        i      i  i     i   i      i   i      i     i  i    i  i   i    i   i  i     i  i   i     i     i  i   i       i  i  i  i               i    i      i      i      i  i    i   i      i  i   i   i   i          i    i      i   i  i     i  i       i       i    i   i    i     i       i           i      i  i   i    i   i   i  i        i  i  i  i    i        i      i       i       i   i     i   i         i   i     i     i  i  i     i   i       i  i          i    i    i           i    i     i     i   i  i      i   i   i    i  i  i   i     i       i    i  i     i  i               i  i  i      i  i   i     i    i      i   i   i     i   i      i   i    i   i           i   i    i       i   i     i  i   i    i    i   i    i     i    i       i     i     i         i   i      i       i  i  i   i             i     i   i        i   i     i  i    i  i    i        i           i  i   i    i   i    i   i     i         i  i     i   i  i  i        i    i    i     i   i   i     i             i      i    i    i     i     i     i   i   i  i    i   i    i          i   i     i  i       i     i        i    i      i           i     i    i       i          i    i        i       i  i    i           i      i       i       i  i  i   i         i  i  i  i  i      i  i       i          i   i  i     i        i   i     i  i           i       i   i           i      i   i         i    i     i   i  i     i    i  i   i       i       i    i  i    i    i      i   i  i     i  i   i  i  i    i      i         i        i      i    i  i   i  i  i         i      i     i         i    i      i   i   i    i   i  i       i     i  i    i  i  i       i  i  i     i  i  i   i   i  i    i   i                i   i     i  i     i     i   i     i  i    i         i    i   i       i  i          i  i      i    i        i        i   i       i  i     i       i  i        i  i         i               i   i     i     i   i     i     i  i               i       i   i  i  i      i   i    i    i   i   i  i   i   i    i      i  i       i         i        i        i  i   i      i  i    i  i  i       i    i  i      i    i       i     i     i        i    i  i   i    i  i       i     i       i  i    i  i   i  i       i     i    i  i     i  i  i   i   i     i   i  i    i   i  i           i    i        i              i        i  i             i  i                   i   i             i     i     i            i   i   i    i    i   i       i  i     i        i      i      i       i     i    i       i    i   i  i    i    i  i     i   i            i         i   i  i    i   i         i   i  i     i   i    i     i  i   i               i   i  i   i   i   i    i      i  i       i  i     i  i          i  i  i     i  i     i      i   i  i   i  i   i          i  i         i   i   i    i  i    i                i  i    i     i      i   i  i       i      i   i                i  i   i    i     i            i   i   i    i      i           i  i  i   i   i  i     i    i  i   i    i    i       i   i           i  i   i      i     i  i       i    i     i   i    i        i   i         i             i     i    i     i    i     i     i       i   i  i   i  i    i         i   i           i    i  i  i    i    i      i  i   i            i  i    i     i  i  i   i  i   i    i   i    i  i  i           i  i  i        i     i    i    i     i               i  i          i    i            i    i     i      i     i   i     i    i  i  i      i    i  i     i      i    i   i  i   i     i       i    i  i    i   i   i      i                  i    i    i     i    i      i   i   i    i    i   i     i   i     i   i  i      i   i  i   i      i  i  i     i    i    i     i  i      i   i   i  i   i  i      i   i                   i   i    i   i     i    i  i   i     i      i            i    i  i  i   i    i  i     i    i       i  i       i  i   i        i   i       i     i  i     i  i  i    i   i  i  i    i     i    i    i    i     i   i   i    i   i       i  i      i       i   i    i      i    i        i       i     i   i   i    i     i  i     i   i   i     i      i   i       i         i         i  i   i          i               i      i   i   i     i     i   i       i   i   i  i       i  i      i      i   i   i      i    i   i      i  i  i     i  i   i         i   i    i    i   i    i     i    i  i     i   i      i   i      i     i    i  i      i     i    i       i        i    i    i  i       i      i  i  i    i      i      i     i   i   i    i  i  i '"
            ],
            "application/vnd.google.colaboratory.intrinsic+json": {
              "type": "string"
            }
          },
          "metadata": {},
          "execution_count": 64
        }
      ]
    },
    {
      "cell_type": "code",
      "source": [
        "import pandas as pd\n",
        "df=pd.DataFrame({\"actual\": test[:,0], \"predicted\": pred_text})"
      ],
      "metadata": {
        "id": "Ek7Fv36wC8mt"
      },
      "execution_count": null,
      "outputs": []
    },
    {
      "cell_type": "code",
      "source": [
        "df.sample(15)"
      ],
      "metadata": {
        "colab": {
          "base_uri": "https://localhost:8080/",
          "height": 519
        },
        "id": "DMlDbw4CD6V8",
        "outputId": "7818dca9-5665-4c6a-83a8-5dfa33e52a9b"
      },
      "execution_count": null,
      "outputs": [
        {
          "output_type": "execute_result",
          "data": {
            "text/plain": [
              "                    actual                                          predicted\n",
              "242          im not a liar                 i    i     i                   ...\n",
              "9669      do you like cats   i          i       i      i                  ...\n",
              "2430      howd you find it     i  i      i   i   i  i     i   i  i  i     ...\n",
              "3571    the storm relented     i           i        i  i   i    i         ...\n",
              "5464             its begun     i     i      i   i  i  i   i   i  i        ...\n",
              "2029           tom is numb       i          i  i   i    i   i             ...\n",
              "1814        tom is smiling   i   i    i    i     i    i   i   i    i      ...\n",
              "9660   i stepped backwards                 i   i      i     i             ...\n",
              "958   he never tells a lie     i  i          i    i     i   i  i          ...\n",
              "8085     stop the car here     i           i   i  i  i   i   i    i  i    ...\n",
              "3999    maybe tom was sick       i            i  i     i   i  i           ...\n",
              "6630    get out if you can             i  i  i         i   i  i           ...\n",
              "6363     stop exaggerating     i     i    i   i  i  i  i    i  i    i     ...\n",
              "9639   tom has left boston   i    i          i    i     i   i  i          ...\n",
              "2766        theyre similar   i   i    i    i     i       i       i       i..."
            ],
            "text/html": [
              "\n",
              "  <div id=\"df-294c78bb-e248-4edd-8102-672280448d4e\" class=\"colab-df-container\">\n",
              "    <div>\n",
              "<style scoped>\n",
              "    .dataframe tbody tr th:only-of-type {\n",
              "        vertical-align: middle;\n",
              "    }\n",
              "\n",
              "    .dataframe tbody tr th {\n",
              "        vertical-align: top;\n",
              "    }\n",
              "\n",
              "    .dataframe thead th {\n",
              "        text-align: right;\n",
              "    }\n",
              "</style>\n",
              "<table border=\"1\" class=\"dataframe\">\n",
              "  <thead>\n",
              "    <tr style=\"text-align: right;\">\n",
              "      <th></th>\n",
              "      <th>actual</th>\n",
              "      <th>predicted</th>\n",
              "    </tr>\n",
              "  </thead>\n",
              "  <tbody>\n",
              "    <tr>\n",
              "      <th>242</th>\n",
              "      <td>im not a liar</td>\n",
              "      <td>i    i     i                   ...</td>\n",
              "    </tr>\n",
              "    <tr>\n",
              "      <th>9669</th>\n",
              "      <td>do you like cats</td>\n",
              "      <td>i          i       i      i                  ...</td>\n",
              "    </tr>\n",
              "    <tr>\n",
              "      <th>2430</th>\n",
              "      <td>howd you find it</td>\n",
              "      <td>i  i      i   i   i  i     i   i  i  i     ...</td>\n",
              "    </tr>\n",
              "    <tr>\n",
              "      <th>3571</th>\n",
              "      <td>the storm relented</td>\n",
              "      <td>i           i        i  i   i    i         ...</td>\n",
              "    </tr>\n",
              "    <tr>\n",
              "      <th>5464</th>\n",
              "      <td>its begun</td>\n",
              "      <td>i     i      i   i  i  i   i   i  i        ...</td>\n",
              "    </tr>\n",
              "    <tr>\n",
              "      <th>2029</th>\n",
              "      <td>tom is numb</td>\n",
              "      <td>i          i  i   i    i   i             ...</td>\n",
              "    </tr>\n",
              "    <tr>\n",
              "      <th>1814</th>\n",
              "      <td>tom is smiling</td>\n",
              "      <td>i   i    i    i     i    i   i   i    i      ...</td>\n",
              "    </tr>\n",
              "    <tr>\n",
              "      <th>9660</th>\n",
              "      <td>i stepped backwards</td>\n",
              "      <td>i   i      i     i             ...</td>\n",
              "    </tr>\n",
              "    <tr>\n",
              "      <th>958</th>\n",
              "      <td>he never tells a lie</td>\n",
              "      <td>i  i          i    i     i   i  i          ...</td>\n",
              "    </tr>\n",
              "    <tr>\n",
              "      <th>8085</th>\n",
              "      <td>stop the car here</td>\n",
              "      <td>i           i   i  i  i   i   i    i  i    ...</td>\n",
              "    </tr>\n",
              "    <tr>\n",
              "      <th>3999</th>\n",
              "      <td>maybe tom was sick</td>\n",
              "      <td>i            i  i     i   i  i           ...</td>\n",
              "    </tr>\n",
              "    <tr>\n",
              "      <th>6630</th>\n",
              "      <td>get out if you can</td>\n",
              "      <td>i  i  i         i   i  i           ...</td>\n",
              "    </tr>\n",
              "    <tr>\n",
              "      <th>6363</th>\n",
              "      <td>stop exaggerating</td>\n",
              "      <td>i     i    i   i  i  i  i    i  i    i     ...</td>\n",
              "    </tr>\n",
              "    <tr>\n",
              "      <th>9639</th>\n",
              "      <td>tom has left boston</td>\n",
              "      <td>i    i          i    i     i   i  i          ...</td>\n",
              "    </tr>\n",
              "    <tr>\n",
              "      <th>2766</th>\n",
              "      <td>theyre similar</td>\n",
              "      <td>i   i    i    i     i       i       i       i...</td>\n",
              "    </tr>\n",
              "  </tbody>\n",
              "</table>\n",
              "</div>\n",
              "    <div class=\"colab-df-buttons\">\n",
              "\n",
              "  <div class=\"colab-df-container\">\n",
              "    <button class=\"colab-df-convert\" onclick=\"convertToInteractive('df-294c78bb-e248-4edd-8102-672280448d4e')\"\n",
              "            title=\"Convert this dataframe to an interactive table.\"\n",
              "            style=\"display:none;\">\n",
              "\n",
              "  <svg xmlns=\"http://www.w3.org/2000/svg\" height=\"24px\" viewBox=\"0 -960 960 960\">\n",
              "    <path d=\"M120-120v-720h720v720H120Zm60-500h600v-160H180v160Zm220 220h160v-160H400v160Zm0 220h160v-160H400v160ZM180-400h160v-160H180v160Zm440 0h160v-160H620v160ZM180-180h160v-160H180v160Zm440 0h160v-160H620v160Z\"/>\n",
              "  </svg>\n",
              "    </button>\n",
              "\n",
              "  <style>\n",
              "    .colab-df-container {\n",
              "      display:flex;\n",
              "      gap: 12px;\n",
              "    }\n",
              "\n",
              "    .colab-df-convert {\n",
              "      background-color: #E8F0FE;\n",
              "      border: none;\n",
              "      border-radius: 50%;\n",
              "      cursor: pointer;\n",
              "      display: none;\n",
              "      fill: #1967D2;\n",
              "      height: 32px;\n",
              "      padding: 0 0 0 0;\n",
              "      width: 32px;\n",
              "    }\n",
              "\n",
              "    .colab-df-convert:hover {\n",
              "      background-color: #E2EBFA;\n",
              "      box-shadow: 0px 1px 2px rgba(60, 64, 67, 0.3), 0px 1px 3px 1px rgba(60, 64, 67, 0.15);\n",
              "      fill: #174EA6;\n",
              "    }\n",
              "\n",
              "    .colab-df-buttons div {\n",
              "      margin-bottom: 4px;\n",
              "    }\n",
              "\n",
              "    [theme=dark] .colab-df-convert {\n",
              "      background-color: #3B4455;\n",
              "      fill: #D2E3FC;\n",
              "    }\n",
              "\n",
              "    [theme=dark] .colab-df-convert:hover {\n",
              "      background-color: #434B5C;\n",
              "      box-shadow: 0px 1px 3px 1px rgba(0, 0, 0, 0.15);\n",
              "      filter: drop-shadow(0px 1px 2px rgba(0, 0, 0, 0.3));\n",
              "      fill: #FFFFFF;\n",
              "    }\n",
              "  </style>\n",
              "\n",
              "    <script>\n",
              "      const buttonEl =\n",
              "        document.querySelector('#df-294c78bb-e248-4edd-8102-672280448d4e button.colab-df-convert');\n",
              "      buttonEl.style.display =\n",
              "        google.colab.kernel.accessAllowed ? 'block' : 'none';\n",
              "\n",
              "      async function convertToInteractive(key) {\n",
              "        const element = document.querySelector('#df-294c78bb-e248-4edd-8102-672280448d4e');\n",
              "        const dataTable =\n",
              "          await google.colab.kernel.invokeFunction('convertToInteractive',\n",
              "                                                    [key], {});\n",
              "        if (!dataTable) return;\n",
              "\n",
              "        const docLinkHtml = 'Like what you see? Visit the ' +\n",
              "          '<a target=\"_blank\" href=https://colab.research.google.com/notebooks/data_table.ipynb>data table notebook</a>'\n",
              "          + ' to learn more about interactive tables.';\n",
              "        element.innerHTML = '';\n",
              "        dataTable['output_type'] = 'display_data';\n",
              "        await google.colab.output.renderOutput(dataTable, element);\n",
              "        const docLink = document.createElement('div');\n",
              "        docLink.innerHTML = docLinkHtml;\n",
              "        element.appendChild(docLink);\n",
              "      }\n",
              "    </script>\n",
              "  </div>\n",
              "\n",
              "\n",
              "<div id=\"df-808fd49d-a77e-4996-b979-a3a49c343eaf\">\n",
              "  <button class=\"colab-df-quickchart\" onclick=\"quickchart('df-808fd49d-a77e-4996-b979-a3a49c343eaf')\"\n",
              "            title=\"Suggest charts\"\n",
              "            style=\"display:none;\">\n",
              "\n",
              "<svg xmlns=\"http://www.w3.org/2000/svg\" height=\"24px\"viewBox=\"0 0 24 24\"\n",
              "     width=\"24px\">\n",
              "    <g>\n",
              "        <path d=\"M19 3H5c-1.1 0-2 .9-2 2v14c0 1.1.9 2 2 2h14c1.1 0 2-.9 2-2V5c0-1.1-.9-2-2-2zM9 17H7v-7h2v7zm4 0h-2V7h2v10zm4 0h-2v-4h2v4z\"/>\n",
              "    </g>\n",
              "</svg>\n",
              "  </button>\n",
              "\n",
              "<style>\n",
              "  .colab-df-quickchart {\n",
              "      --bg-color: #E8F0FE;\n",
              "      --fill-color: #1967D2;\n",
              "      --hover-bg-color: #E2EBFA;\n",
              "      --hover-fill-color: #174EA6;\n",
              "      --disabled-fill-color: #AAA;\n",
              "      --disabled-bg-color: #DDD;\n",
              "  }\n",
              "\n",
              "  [theme=dark] .colab-df-quickchart {\n",
              "      --bg-color: #3B4455;\n",
              "      --fill-color: #D2E3FC;\n",
              "      --hover-bg-color: #434B5C;\n",
              "      --hover-fill-color: #FFFFFF;\n",
              "      --disabled-bg-color: #3B4455;\n",
              "      --disabled-fill-color: #666;\n",
              "  }\n",
              "\n",
              "  .colab-df-quickchart {\n",
              "    background-color: var(--bg-color);\n",
              "    border: none;\n",
              "    border-radius: 50%;\n",
              "    cursor: pointer;\n",
              "    display: none;\n",
              "    fill: var(--fill-color);\n",
              "    height: 32px;\n",
              "    padding: 0;\n",
              "    width: 32px;\n",
              "  }\n",
              "\n",
              "  .colab-df-quickchart:hover {\n",
              "    background-color: var(--hover-bg-color);\n",
              "    box-shadow: 0 1px 2px rgba(60, 64, 67, 0.3), 0 1px 3px 1px rgba(60, 64, 67, 0.15);\n",
              "    fill: var(--button-hover-fill-color);\n",
              "  }\n",
              "\n",
              "  .colab-df-quickchart-complete:disabled,\n",
              "  .colab-df-quickchart-complete:disabled:hover {\n",
              "    background-color: var(--disabled-bg-color);\n",
              "    fill: var(--disabled-fill-color);\n",
              "    box-shadow: none;\n",
              "  }\n",
              "\n",
              "  .colab-df-spinner {\n",
              "    border: 2px solid var(--fill-color);\n",
              "    border-color: transparent;\n",
              "    border-bottom-color: var(--fill-color);\n",
              "    animation:\n",
              "      spin 1s steps(1) infinite;\n",
              "  }\n",
              "\n",
              "  @keyframes spin {\n",
              "    0% {\n",
              "      border-color: transparent;\n",
              "      border-bottom-color: var(--fill-color);\n",
              "      border-left-color: var(--fill-color);\n",
              "    }\n",
              "    20% {\n",
              "      border-color: transparent;\n",
              "      border-left-color: var(--fill-color);\n",
              "      border-top-color: var(--fill-color);\n",
              "    }\n",
              "    30% {\n",
              "      border-color: transparent;\n",
              "      border-left-color: var(--fill-color);\n",
              "      border-top-color: var(--fill-color);\n",
              "      border-right-color: var(--fill-color);\n",
              "    }\n",
              "    40% {\n",
              "      border-color: transparent;\n",
              "      border-right-color: var(--fill-color);\n",
              "      border-top-color: var(--fill-color);\n",
              "    }\n",
              "    60% {\n",
              "      border-color: transparent;\n",
              "      border-right-color: var(--fill-color);\n",
              "    }\n",
              "    80% {\n",
              "      border-color: transparent;\n",
              "      border-right-color: var(--fill-color);\n",
              "      border-bottom-color: var(--fill-color);\n",
              "    }\n",
              "    90% {\n",
              "      border-color: transparent;\n",
              "      border-bottom-color: var(--fill-color);\n",
              "    }\n",
              "  }\n",
              "</style>\n",
              "\n",
              "  <script>\n",
              "    async function quickchart(key) {\n",
              "      const quickchartButtonEl =\n",
              "        document.querySelector('#' + key + ' button');\n",
              "      quickchartButtonEl.disabled = true;  // To prevent multiple clicks.\n",
              "      quickchartButtonEl.classList.add('colab-df-spinner');\n",
              "      try {\n",
              "        const charts = await google.colab.kernel.invokeFunction(\n",
              "            'suggestCharts', [key], {});\n",
              "      } catch (error) {\n",
              "        console.error('Error during call to suggestCharts:', error);\n",
              "      }\n",
              "      quickchartButtonEl.classList.remove('colab-df-spinner');\n",
              "      quickchartButtonEl.classList.add('colab-df-quickchart-complete');\n",
              "    }\n",
              "    (() => {\n",
              "      let quickchartButtonEl =\n",
              "        document.querySelector('#df-808fd49d-a77e-4996-b979-a3a49c343eaf button');\n",
              "      quickchartButtonEl.style.display =\n",
              "        google.colab.kernel.accessAllowed ? 'block' : 'none';\n",
              "    })();\n",
              "  </script>\n",
              "</div>\n",
              "\n",
              "    </div>\n",
              "  </div>\n"
            ],
            "application/vnd.google.colaboratory.intrinsic+json": {
              "type": "dataframe",
              "summary": "{\n  \"name\": \"df\",\n  \"rows\": 15,\n  \"fields\": [\n    {\n      \"column\": \"actual\",\n      \"properties\": {\n        \"dtype\": \"string\",\n        \"num_unique_values\": 15,\n        \"samples\": [\n          \"stop the car here\",\n          \"get out if you can\",\n          \"im not a liar\"\n        ],\n        \"semantic_type\": \"\",\n        \"description\": \"\"\n      }\n    },\n    {\n      \"column\": \"predicted\",\n      \"properties\": {\n        \"dtype\": \"string\",\n        \"num_unique_values\": 15,\n        \"samples\": [\n          \"   i           i   i  i  i   i   i    i  i     i    i  i          i  i  i    i     i          i   i        i    i   i        i  i    i  i   i    i    i   i      i   i   i      i      i    i      i      i          i   i      i   i   i  i    i      i    i  i  i   i   i    i    i   i  i  i  i       i      i   i  i   i   i  i  i     i          i     i     i       i   i  i   i  i   i      i    i   i    i    i  i   i      i  i        i  i      i   i   i     i    i     i  i    i  i    i    i  i     i        i           i  i     i     i       i    i  i  i       i   i    i  i  i  i     i    i    i   i    i        i  i   i  i             i         i   i         i  i   i   i    i   i    i       i  i        i   i    i   i  i   i        i    i  i   i      i   i     i       i  i  i    i  i       i           i    i  i    i    i   i       i    i  i  i   i        i     i  i    i  i  i     i  i  i   i  i   i      i  i     i  i    i  i  i  i    i  i     i        i     i       i   i   i     i  i      i    i        i   i   i  i    i   i     i     i     i   i  i   i       i      i   i     i   i    i  i    i     i    i   i  i    i   i   i  i            i   i     i   i  i    i       i    i   i     i       i   i  i    i     i    i  i    i   i           i    i  i  i       i    i  i  i   i  i   i     i  i   i   i       i    i       i     i    i    i      i       i  i  i  i           i      i    i  i   i    i  i   i      i  i   i   i      i   i   i    i   i   i   i  i  i   i   i  i   i   i  i    i    i       i    i   i        i      i  i  i    i     i    i  i  i  i      i   i    i     i  i   i  i    i    i     i  i        i  i  i    i  i   i    i      i      i  i  i  i    i    i      i      i   i  i  i  i      i   i  i      i    i   i   i  i        i  i   i      i      i   i       i    i  i    i      i    i   i  i   i  i       i    i      i    i       i        i  i   i   i         i      i     i   i     i       i      i    i    i   i   i   i     i    i  i        i         i     i  i  i     i  i    i    i  i        i  i       i   i      i       i   i  i     i     i  i      i  i       i    i  i   i  i     i   i  i   i       i  i    i  i  i    i   i           i   i    i     i      i   i     i  i    i     i    i      i    i    i            i    i   i      i         i     i   i   i    i   i  i   i  i  i     i      i       i      i     i    i    i    i  i      i       i    i    i    i   i     i  i  i    i   i          i  i   i       i  i    i      i  i       i     i   i    i  i  i   i        i         i    i  i      i     i        i     i     i     i   i   i   i   i   i       i  i       i   i  i  i   i  i     i  i  i     i      i     i     i  i   i     i       i     i    i    i   i      i  i   i        i  i     i    i    i   i  i   i     i   i   i  i  i  i     i       i        i     i    i            i      i  i     i  i  i  i    i     i      i  i   i  i  i  i   i       i  i    i    i            i  i  i     i   i      i   i   i   i     i  i    i  i   i    i   i  i     i  i   i     i     i  i   i        i   i  i               i    i            i      i  i    i   i      i  i   i   i    i         i    i       i  i  i    i       i   i       i    i   i    i           i   i   i    i  i      i     i     i  i   i  i        i  i  i  i    i        i      i    i    i      i   i     i   i         i   i     i     i  i  i  i  i    i       i  i          i  i  i    i        i   i    i          i   i  i      i   i   i    i   i    i  i   i       i    i  i     i      i      i     i  i  i      i  i   i     i    i      i   i   i     i   i      i   i    i   i           i   i     i      i   i     i  i   i  i  i    i   i    i     i    i  i     i     i     i         i   i      i       i    i   i    i         i  i   i   i  i      i     i   i  i      i    i        i      i     i  i   i    i   i   i    i     i         i  i      i  i    i        i    i      i      i   i     i             i      i    i    i   i  i     i     i   i   i  i    i   i    i          i   i     i  i       i     i        i    i                 i     i    i      i           i    i        i         i              i       i       i       i  i  i  i          i  i  i  i  i      i  i        i         i   i  i     i        i   i     i  i           i       i   i           i      i   i         i    i     i   i   i    i   i   i   i       i           i  i    i    i      i   i  i     i  i   i  i  i    i      i    i     i        i      i    i  i   i  i  i         i    i       i     i   i     i    i  i   i   i   i    i  i   i    i     i  i    i  i  i         i  i     i  i   i  i   i  i    i   i                i   i     i       i     i   i  i     i    i         i    i   i       i     i   i   i   i     i     i      i          i   i       i   i    i       i  i        i  i        i                i   i     i     i   i    i      i  i       i   i  i   i       i   i  i        i   i    i       i   i  i   i   i    i        i       i         i        i        i  i   i   i   i  i    i    i       i  i  i  i      i    i    i   i     i     i   i   i  i      i   i    i  i       i     i  i     i  i    i  i   i  i       i     i    i  i     i  i  i   i   i     i   i         i    i         i    i        i             i       i    i    i       i  i  i                      i                  i     i            i      i    i    i   i       i  i     i        i      i      i     i  i     i  i  i      i     i   i  i    i    i  i     i               i         i   i  i   i    i      i   i   i  i        i    i     i  i   i                  i  i   i   i   i    i      i  i       i  i     i            i  i  i    i        i    i  i   i  i   i  i             i  i            i   i    i  i    i                i  i    i     i      i   i  i       i      i   i                i  i   i    i     i            i   i       i      i    i      i   i  i   i   i       i    i     i    i    i   i    i   i             i   i      i     i  i       i    i     i   i    i        i   i         i          i   i     i         i    i     i     i       i   i  i   i  i    i         i   i      i     i    i  i  i  i  i    i        i  i    i      i  i       i     i    i   i  i   i    i   i    i  i             i  i  i        i   i  i    i    i     i               i  i          i    i            i    i     i      i     i   i    i     i  i  i    i  i    i  i     i      i    i   i  i   i   i         i  i  i  i    i   i   i      i          i   i     i    i    i    i    i       i   i   i    i    i   i    i    i        i  i      i   i  i   i      i    i    i         i     i  i      i   i   i  i   i           i                   i   i    i   i     i    i  i   i     i      i            i    i  i  i       i  i     i    i       i  i       i  i   i        i   i     i  i   i  i  i     i  i  i    i   i  i  i  i  i   i  i    i    i    i     i   i   i    i   i       i  i   i   i       i   i    i      i    i               i  i   i      i    i     i  i     i   i   i           i   i       i         i        i   i   i          i               i      i   i   i     i     i   i       i   i   i  i       i  i    i  i    i  i   i   i      i    i   i      i  i  i     i  i            i   i    i    i   i    i         i       i   i      i   i      i     i   i   i      i     i    i       i        i        i  i     i  i    i  i    i   i       i      i     i   i   i    i  i  i \",\n          \"           i  i  i         i   i  i                 i       i   i            i         i    i       i        i         i      i   i    i    i               i  i    i    i   i   i            i             i         i  i       i      i    i  i     i   i        i   i      i       i         i      i  i  i  i      i  i       i     i            i     i   i  i   i      i    i       i    i  i         i   i  i       i   i   i   i         i   i     i   i               i      i       i  i     i  i              i  i      i   i    i            i  i    i           i     i   i           i  i     i     i  i  i                i           i          i       i          i       i   i    i   i                            i   i              i        i         i         i        i         i       i    i                    i  i    i     i      i       i   i      i     i    i          i  i  i       i          i   i          i   i       i          i        i   i       i  i   i     i     i     i   i  i   i       i      i   i     i   i    i      i     i    i   i      i   i   i  i            i   i     i      i   i  i     i    i        i   i    i   i  i  i  i     i    i  i     i  i           i      i  i  i         i  i  i     i        i  i   i    i        i  i  i  i   i   i   i   i          i         i  i  i           i      i         i       i  i      i      i        i   i   i    i   i   i   i       i     i   i   i  i    i           i    i   i        i  i    i  i  i     i    i  i    i    i          i   i       i      i       i        i       i    i    i  i   i    i       i     i  i        i          i   i        i    i      i   i   i     i  i  i        i        i     i       i   i  i   i       i    i  i     i     i       i   i  i  i           i  i    i     i      i        i   i  i   i         i      i     i   i  i   i        i      i   i       i   i   i       i  i  i        i  i       i     i    i     i  i        i   i         i          i       i      i   i  i     i       i      i  i  i     i    i  i   i  i     i   i  i   i   i    i  i    i  i  i    i   i  i          i  i    i            i  i       i    i     i    i      i    i    i            i     i        i         i  i   i   i       i   i  i   i  i    i         i       i      i     i      i  i    i   i     i       i    i           i     i  i  i    i    i         i     i       i   i   i      i  i       i        i    i  i  i   i    i    i           i    i      i     i        i  i   i   i  i     i   i   i   i   i    i      i  i       i   i    i   i   i        i           i     i       i   i     i       i     i    i    i   i      i  i           i  i     i    i     i  i  i   i        i     i  i        i              i     i    i             i     i  i     i  i  i      i      i     i  i   i  i  i  i     i     i  i    i    i     i   i    i  i  i  i   i   i      i    i  i   i     i  i      i   i    i   i  i     i  i   i     i     i  i   i    i    i     i                i   i    i  i      i      i  i    i   i      i     i   i    i         i    i       i  i  i     i  i       i       i    i   i                i           i      i     i     i  i   i  i          i         i       i      i        i      i        i   i         i        i       i          i       i  i          i    i    i        i   i    i   i  i     i   i  i      i      i    i   i    i     i       i    i  i     i  i               i  i  i      i  i   i  i    i   i      i   i   i        i      i   i    i   i           i        i   i   i    i    i  i   i    i    i   i    i     i      i     i   i  i     i         i    i     i       i     i  i                  i   i  i      i        i  i    i  i     i                  i  i   i    i   i    i   i     i         i  i  i    i  i  i  i        i    i    i  i      i   i     i             i      i    i         i     i     i   i   i  i    i   i              i        i  i        i    i   i     i    i      i   i        i     i    i       i           i   i        i       i  i    i           i      i       i       i  i  i    i        i  i  i  i  i   i   i   i       i         i     i     i        i    i    i  i           i          i           i       i  i         i    i     i   i   i     i   i  i   i       i       i    i   i   i    i      i   i  i     i  i   i  i  i    i      i         i  i      i      i    i  i   i  i  i               i     i         i    i      i   i   i    i   i  i       i     i  i    i  i  i         i  i     i  i   i  i   i      i   i   i             i   i       i     i     i   i  i      i   i   i      i    i   i   i    i  i            i      i    i                i    i      i   i    i       i  i        i  i         i               i   i     i     i   i     i     i  i          i     i       i   i  i  i      i   i     i      i     i   i   i    i        i       i         i        i        i  i   i      i  i    i    i       i    i  i      i    i       i     i     i        i    i  i   i    i  i       i              i    i  i   i  i       i     i      i     i  i     i    i    i   i         i             i    i  i                    i        i  i             i  i                   i   i             i     i  i   i            i   i   i    i    i    i      i   i    i  i      i      i      i       i     i    i       i    i   i  i    i    i  i  i   i   i            i   i         i  i     i  i  i    i   i     i     i   i    i     i  i   i       i   i   i  i   i   i  i   i   i    i      i  i  i     i  i     i  i      i    i  i  i     i  i     i      i   i  i   i  i    i         i  i            i   i        i  i  i              i  i    i     i      i   i   i      i  i    i   i                  i   i  i  i     i      i      i   i   i     i     i           i  i  i   i     i   i  i    i  i   i    i    i       i   i           i  i   i       i    i  i       i    i     i   i    i        i   i  i       i  i           i     i    i      i   i     i     i  i     i     i   i   i   i  i       i   i  i         i    i  i  i    i    i      i  i   i            i  i    i     i  i  i     i   i    i   i      i  i       i      i  i    i    i     i     i   i     i               i  i      i    i    i            i    i     i      i     i    i    i    i  i  i    i  i    i  i     i       i   i   i  i   i     i       i    i   i   i   i   i      i                  i    i    i         i      i   i   i    i    i   i     i   i     i   i   i     i   i  i   i      i  i  i     i    i      i     i  i    i   i   i  i    i       i    i  i       i         i   i       i         i  i   i     i      i            i    i  i  i         i      i   i     i  i  i       i   i  i        i   i   i    i     i  i     i  i  i    i   i    i    i     i    i    i    i     i   i   i    i   i       i  i      i        i  i    i    i  i    i        i       i     i   i   i    i       i     i   i   i     i    i  i   i        i        i    i     i  i   i          i  i   i          i      i      i     i     i   i       i   i     i       i  i      i      i   i   i      i    i   i  i      i  i     i  i   i     i       i    i    i   i    i     i    i   i    i   i   i   i   i      i     i    i   i     i     i    i       i        i    i    i  i       i      i  i  i   i        i     i     i   i    i   i  i  i \",\n          \"               i    i     i                      i        i    i                   i  i       i  i    i             i      i   i            i             i    i                 i     i             i         i   i            i    i           i                i                      i  i  i               i   i                        i  i    i     i    i       i    i   i        i   i  i       i      i                i                      i      i       i  i     i                i  i             i            i                         i                  i     i  i   i               i    i                         i         i          i  i                                    i              i        i         i                 i  i        i               i               i  i      i                i   i      i     i                i  i       i              i             i                i                  i                                                              i        i    i                  i                      i   i                    i      i       i  i                  i           i            i                i              i   i        i  i       i      i                      i  i               i     i                       i              i      i       i             i     i   i   i  i                   i   i                           i            i        i                       i  i             i    i             i    i   i                i         i   i            i       i      i                             i  i               i                                 i                                i           i                  i             i    i                                   i   i                i                            i                               i          i               i                            i                  i             i                          i                                i                                        i      i                                       i         i                           i                                i                            i                               i      i                         i                                  i                i   i                            i                 i                                                                           i           i                                       i            i                                   i                             i                                                                                                                                i                                                                                                                                          i                     i       i                            i                                                                                                                                                                                                                                                                                                                                                                                                                                                                                                                                                                                                                                                                                                                                                                                                                                                                                                                                                                                                                                                                                                                                                                                                                                                                                                                                                                                                                                                                                                                                                                                                                                                                                                                                                                                                                                                                                                                                                                                                                                                                                                                                                                                                                                                                                                                                                                                                                                                                                                                                                                                                                                                                                                                                                                                                                                                                                                                                                                                                                                                                                                                                                                                                                                                                                                                                                                                                                                     \"\n        ],\n        \"semantic_type\": \"\",\n        \"description\": \"\"\n      }\n    }\n  ]\n}"
            }
          },
          "metadata": {},
          "execution_count": 66
        }
      ]
    }
  ]
}