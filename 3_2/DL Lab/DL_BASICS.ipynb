{
  "cells": [
    {
      "cell_type": "code",
      "execution_count": null,
      "metadata": {
        "id": "RyoPSlbgNzvC"
      },
      "outputs": [],
      "source": []
    },
    {
      "cell_type": "markdown",
      "metadata": {
        "id": "cCbX8AsVN3q5"
      },
      "source": [
        "TensorFlow is an open-source machine learning library developed by Google. TensorFlow is used to build and train deep learning models\n",
        "TensorFlow is basically a software library for numerical computation using data flow graphs where:\n",
        "\n",
        "nodes in the graph represent mathematical operations.\n",
        "edges in the graph represent the multidimensional data arrays (called tensors) communicated between them.\n",
        "\n",
        "**(Please note that tensor is the central unit of data in TensorFlow).**\n"
      ]
    },
    {
      "cell_type": "code",
      "execution_count": null,
      "metadata": {
        "colab": {
          "base_uri": "https://localhost:8080/"
        },
        "id": "ABddIei3PLjP",
        "outputId": "d9e7d361-85e3-4fac-ea96-dd0ff53f12b1"
      },
      "outputs": [
        {
          "name": "stdout",
          "output_type": "stream",
          "text": [
            "2.15.0\n"
          ]
        }
      ],
      "source": [
        "import tensorflow as tf\n",
        "print(tf.__version__)"
      ]
    },
    {
      "cell_type": "markdown",
      "metadata": {
        "id": "Fpv0HtRJPYsJ"
      },
      "source": [
        "Let’s first create a scalar using tf.constant. We use tf.constant to create a new constant value."
      ]
    },
    {
      "cell_type": "code",
      "execution_count": 1,
      "metadata": {
        "id": "8uwR5OPSPN75"
      },
      "outputs": [
        {
          "ename": "NameError",
          "evalue": "name 'tf' is not defined",
          "output_type": "error",
          "traceback": [
            "\u001b[1;31m---------------------------------------------------------------------------\u001b[0m",
            "\u001b[1;31mNameError\u001b[0m                                 Traceback (most recent call last)",
            "Cell \u001b[1;32mIn[1], line 1\u001b[0m\n\u001b[1;32m----> 1\u001b[0m scalar \u001b[38;5;241m=\u001b[39m tf\u001b[38;5;241m.\u001b[39mconstant(\u001b[38;5;241m7\u001b[39m)\n\u001b[0;32m      2\u001b[0m \u001b[38;5;28mprint\u001b[39m(scalar)\n\u001b[0;32m      3\u001b[0m \u001b[38;5;28mprint\u001b[39m(scalar\u001b[38;5;241m.\u001b[39mndim)\n",
            "\u001b[1;31mNameError\u001b[0m: name 'tf' is not defined"
          ]
        }
      ],
      "source": [
        "scalar = tf.constant(7)\n",
        "print(scalar)\n",
        "print(scalar.ndim)"
      ]
    },
    {
      "cell_type": "markdown",
      "metadata": {
        "id": "3yb9hoWrPlwA"
      },
      "source": [
        "Now let’s create a vector and print its dimensions. You can see that the dimension is 1."
      ]
    },
    {
      "cell_type": "code",
      "execution_count": null,
      "metadata": {
        "colab": {
          "base_uri": "https://localhost:8080/"
        },
        "id": "OP5RvRqrPnRk",
        "outputId": "4dec8394-68ba-4020-98a2-1180d362e3fa"
      },
      "outputs": [
        {
          "name": "stdout",
          "output_type": "stream",
          "text": [
            "tf.Tensor([10 10 20], shape=(3,), dtype=int32)\n",
            "1\n"
          ]
        }
      ],
      "source": [
        "vector = tf.constant([10,10,20])\n",
        "print(vector)\n",
        "print(vector.ndim)"
      ]
    },
    {
      "cell_type": "markdown",
      "metadata": {
        "id": "Mp6I1kcPP7R5"
      },
      "source": [
        "matrix = tf.constant([\n",
        "    [10,11],\n",
        "    [12,13]\n",
        "])\n",
        "print(matrix)\n",
        "print(matrix.ndim)"
      ]
    },
    {
      "cell_type": "code",
      "execution_count": null,
      "metadata": {
        "colab": {
          "base_uri": "https://localhost:8080/"
        },
        "id": "jW8ZsJfuP-bC",
        "outputId": "4751dde0-7bef-4c79-82f4-07a5c5d1d2f8"
      },
      "outputs": [
        {
          "name": "stdout",
          "output_type": "stream",
          "text": [
            "tf.Tensor(\n",
            "[[10 11]\n",
            " [12 13]\n",
            " [ 5  6]], shape=(3, 2), dtype=int32)\n",
            "2\n"
          ]
        }
      ],
      "source": [
        "matrix = tf.constant([\n",
        "    [10,11],\n",
        "    [12,13],\n",
        "    [5,6]\n",
        "])\n",
        "print(matrix)\n",
        "print(matrix.ndim)"
      ]
    },
    {
      "cell_type": "markdown",
      "metadata": {
        "id": "y8mjK7OUQlGk"
      },
      "source": [
        "We have seen that these tensors have a default datatype of int32. What if we want to create a dataset with a custom datatype?"
      ]
    },
    {
      "cell_type": "code",
      "execution_count": null,
      "metadata": {
        "colab": {
          "base_uri": "https://localhost:8080/"
        },
        "id": "iu3GiOx3QV2C",
        "outputId": "a79dda78-0d9a-49b4-f94b-52ce6b219989"
      },
      "outputs": [
        {
          "name": "stdout",
          "output_type": "stream",
          "text": [
            "tf.Tensor(\n",
            "[[[1. 2. 3.]]\n",
            "\n",
            " [[4. 5. 6.]]\n",
            "\n",
            " [[7. 8. 9.]]], shape=(3, 1, 3), dtype=float32)\n"
          ]
        }
      ],
      "source": [
        "tensor_1 = tf.constant([\n",
        "    [\n",
        "        [1,2,3]\n",
        "    ],\n",
        "    [\n",
        "        [4,5,6]\n",
        "    ],\n",
        "    [\n",
        "        [7,8,9]\n",
        "    ]\n",
        "],dtype='float32')\n",
        "print(tensor_1)"
      ]
    },
    {
      "cell_type": "markdown",
      "metadata": {
        "id": "IfJYhVY0PUTC"
      },
      "source": []
    },
    {
      "cell_type": "code",
      "execution_count": null,
      "metadata": {
        "colab": {
          "base_uri": "https://localhost:8080/"
        },
        "id": "IrJBvHLsRvoI",
        "outputId": "a012037f-734d-48b6-ce68-7920110a6fa0"
      },
      "outputs": [
        {
          "name": "stdout",
          "output_type": "stream",
          "text": [
            "tf.Tensor(\n",
            "[[[1. 2. 3.]\n",
            "  [4. 5. 6.]]\n",
            "\n",
            " [[4. 5. 6.]\n",
            "  [5. 7. 8.]]\n",
            "\n",
            " [[7. 8. 9.]\n",
            "  [9. 8. 0.]]], shape=(3, 2, 3), dtype=float32)\n"
          ]
        }
      ],
      "source": [
        "tensor_1 = tf.constant([\n",
        "    [\n",
        "        [1,2,3],[4,5,6]\n",
        "    ],\n",
        "    [\n",
        "        [4,5,6],[5,7,8]\n",
        "    ],\n",
        "    [\n",
        "        [7,8,9],[9,8,0]\n",
        "    ]\n",
        "],dtype='float32')\n",
        "print(tensor_1)"
      ]
    },
    {
      "cell_type": "markdown",
      "metadata": {
        "id": "mVYCdu8WSU17"
      },
      "source": [
        "Now let’s look at how to create a variable tensor."
      ]
    },
    {
      "cell_type": "code",
      "execution_count": null,
      "metadata": {
        "colab": {
          "base_uri": "https://localhost:8080/"
        },
        "id": "4rNwsjTnSAeQ",
        "outputId": "71db311e-0ce1-426e-caa1-7c2f68139ab3"
      },
      "outputs": [
        {
          "name": "stdout",
          "output_type": "stream",
          "text": [
            "<tf.Variable 'Variable:0' shape=(3, 1, 3) dtype=int32, numpy=\n",
            "array([[[1, 2, 3]],\n",
            "\n",
            "       [[4, 5, 6]],\n",
            "\n",
            "       [[7, 8, 9]]], dtype=int32)>\n"
          ]
        }
      ],
      "source": [
        "var_tensor = tf.Variable([\n",
        "    [\n",
        "        [1,2,3]\n",
        "    ],\n",
        "    [\n",
        "        [4,5,6]\n",
        "    ],\n",
        "    [\n",
        "        [7,8,9]\n",
        "    ]\n",
        "])\n",
        "print(var_tensor)"
      ]
    },
    {
      "cell_type": "code",
      "execution_count": null,
      "metadata": {
        "colab": {
          "base_uri": "https://localhost:8080/"
        },
        "id": "mKHquIWSVwn5",
        "outputId": "4a647690-10d0-4f56-b157-0903b9cac372"
      },
      "outputs": [
        {
          "name": "stdout",
          "output_type": "stream",
          "text": [
            "tf.Tensor(\n",
            "[[-0.7565803  -0.06854702]\n",
            " [ 0.07595026 -1.2573844 ]\n",
            " [-0.23193763 -1.8107855 ]], shape=(3, 2), dtype=float32)\n",
            "tf.Tensor(\n",
            "[[0.7647915  0.03845465]\n",
            " [0.8506975  0.20781887]\n",
            " [0.711869   0.8843919 ]], shape=(3, 2), dtype=float32)\n"
          ]
        }
      ],
      "source": [
        "seed = tf.random.Generator.from_seed(42)\n",
        "normal_tensor = seed.normal(shape=(3,2))\n",
        "print(normal_tensor)\n",
        "uniform_tensor = seed.uniform(shape=(3,2))\n",
        "print(uniform_tensor)"
      ]
    },
    {
      "cell_type": "markdown",
      "metadata": {
        "id": "DAMygPuqWHdf"
      },
      "source": [
        "We have two tensors created, one with a normal distribution of random numbers and the other with a uniform distribution of random numbers."
      ]
    },
    {
      "cell_type": "markdown",
      "metadata": {
        "id": "Qx3uXBYTWI-t"
      },
      "source": [
        "Next, we will create a tensor with zeros and ones. In TensorFlow, tensors filled with zeros or ones are often used as a starting point for creating other tensors. They can also be placeholders for inputs in a computational graph."
      ]
    },
    {
      "cell_type": "code",
      "execution_count": null,
      "metadata": {
        "colab": {
          "base_uri": "https://localhost:8080/"
        },
        "id": "58kjLJWUWPOE",
        "outputId": "203749c8-4ddc-443c-a2bd-39762cb7acb9"
      },
      "outputs": [
        {
          "name": "stdout",
          "output_type": "stream",
          "text": [
            "tf.Tensor(\n",
            "[[0. 0.]\n",
            " [0. 0.]\n",
            " [0. 0.]], shape=(3, 2), dtype=float32)\n",
            "tf.Tensor(\n",
            "[[1. 1.]\n",
            " [1. 1.]\n",
            " [1. 1.]], shape=(3, 2), dtype=float32)\n"
          ]
        }
      ],
      "source": [
        "zeros = tf.zeros(shape=(3,2))\n",
        "print(zeros)\n",
        "ones = tf.ones(shape=(3,2))\n",
        "print(ones)"
      ]
    },
    {
      "cell_type": "markdown",
      "metadata": {
        "id": "LZuOB9k_WkQ3"
      },
      "source": [
        "Now, let’s look at converting NumPy arrays into tensors."
      ]
    },
    {
      "cell_type": "code",
      "execution_count": null,
      "metadata": {
        "colab": {
          "base_uri": "https://localhost:8080/"
        },
        "id": "_HTPx27pWmGn",
        "outputId": "3ebe7b90-2ca0-46bb-a9ab-beed42ae6b79"
      },
      "outputs": [
        {
          "name": "stdout",
          "output_type": "stream",
          "text": [
            "[ 1  2  3  4  5  6  7  8  9 10 11 12 13 14 15 16 17 18 19 20 21 22 23 24]\n"
          ]
        }
      ],
      "source": [
        "import numpy as np\n",
        "numpy_arr = np.arange(1,25,dtype=np.int32)\n",
        "print(numpy_arr)"
      ]
    },
    {
      "cell_type": "code",
      "execution_count": null,
      "metadata": {
        "colab": {
          "base_uri": "https://localhost:8080/"
        },
        "id": "K6s6oUi7Wx1h",
        "outputId": "58c85ad8-1bb6-48eb-c5a1-2d3027e71b8c"
      },
      "outputs": [
        {
          "name": "stdout",
          "output_type": "stream",
          "text": [
            "tf.Tensor(\n",
            "[[[ 1  2  3]\n",
            "  [ 4  5  6]\n",
            "  [ 7  8  9]\n",
            "  [10 11 12]]\n",
            "\n",
            " [[13 14 15]\n",
            "  [16 17 18]\n",
            "  [19 20 21]\n",
            "  [22 23 24]]], shape=(2, 4, 3), dtype=int32)\n"
          ]
        }
      ],
      "source": [
        "numpy_tensor = tf.constant(numpy_arr,shape=[2,4,3])\n",
        "print(numpy_tensor)"
      ]
    },
    {
      "cell_type": "markdown",
      "metadata": {
        "id": "d_aDsGqcXL3K"
      },
      "source": [
        "The original NumPy array was 1x12 but our tensor is 2x4x3. This is called re-shaping a tensor which we will often do while training deep neural networks."
      ]
    },
    {
      "cell_type": "code",
      "execution_count": null,
      "metadata": {
        "id": "2_8JzKFeXNX_"
      },
      "outputs": [],
      "source": []
    },
    {
      "cell_type": "markdown",
      "metadata": {
        "id": "2hckhfJ-XVkt"
      },
      "source": [
        "Let’s create a 4D tensor with 0 values with the shape 2x3x4x5."
      ]
    },
    {
      "cell_type": "code",
      "execution_count": null,
      "metadata": {
        "colab": {
          "base_uri": "https://localhost:8080/"
        },
        "id": "QUjxasFSXYP7",
        "outputId": "417c0d1a-b6da-4187-e858-29d7938d7097"
      },
      "outputs": [
        {
          "name": "stdout",
          "output_type": "stream",
          "text": [
            "tf.Tensor(\n",
            "[[[[0. 0. 0. 0. 0.]\n",
            "   [0. 0. 0. 0. 0.]\n",
            "   [0. 0. 0. 0. 0.]\n",
            "   [0. 0. 0. 0. 0.]]\n",
            "\n",
            "  [[0. 0. 0. 0. 0.]\n",
            "   [0. 0. 0. 0. 0.]\n",
            "   [0. 0. 0. 0. 0.]\n",
            "   [0. 0. 0. 0. 0.]]\n",
            "\n",
            "  [[0. 0. 0. 0. 0.]\n",
            "   [0. 0. 0. 0. 0.]\n",
            "   [0. 0. 0. 0. 0.]\n",
            "   [0. 0. 0. 0. 0.]]]\n",
            "\n",
            "\n",
            " [[[0. 0. 0. 0. 0.]\n",
            "   [0. 0. 0. 0. 0.]\n",
            "   [0. 0. 0. 0. 0.]\n",
            "   [0. 0. 0. 0. 0.]]\n",
            "\n",
            "  [[0. 0. 0. 0. 0.]\n",
            "   [0. 0. 0. 0. 0.]\n",
            "   [0. 0. 0. 0. 0.]\n",
            "   [0. 0. 0. 0. 0.]]\n",
            "\n",
            "  [[0. 0. 0. 0. 0.]\n",
            "   [0. 0. 0. 0. 0.]\n",
            "   [0. 0. 0. 0. 0.]\n",
            "   [0. 0. 0. 0. 0.]]]], shape=(2, 3, 4, 5), dtype=float32)\n"
          ]
        }
      ],
      "source": [
        "rank4_tensor = tf.zeros([2,3,4,5])\n",
        "print(rank4_tensor)"
      ]
    },
    {
      "cell_type": "markdown",
      "metadata": {
        "id": "zP_KQKKUXmL1"
      },
      "source": [
        "We will use tf.size function to get the size. The shape and ndim properties will give us the shape and dimensions of the tensor."
      ]
    },
    {
      "cell_type": "code",
      "execution_count": null,
      "metadata": {
        "id": "x-L6-stdXnFg"
      },
      "outputs": [],
      "source": [
        "print(\"Size\",tf.size(rank4_tensor))\n",
        "print(\"shape\",rank4_tensor.shape)\n",
        "print(\"Dimension\",rank4_tensor.ndim)"
      ]
    },
    {
      "cell_type": "code",
      "execution_count": null,
      "metadata": {
        "id": "fJYFh8lXXrqN"
      },
      "outputs": [],
      "source": []
    }
  ],
  "metadata": {
    "colab": {
      "provenance": []
    },
    "kernelspec": {
      "display_name": "Python 3",
      "name": "python3"
    },
    "language_info": {
      "codemirror_mode": {
        "name": "ipython",
        "version": 3
      },
      "file_extension": ".py",
      "mimetype": "text/x-python",
      "name": "python",
      "nbconvert_exporter": "python",
      "pygments_lexer": "ipython3",
      "version": "3.11.4"
    }
  },
  "nbformat": 4,
  "nbformat_minor": 0
}
