{
  "cells": [
    {
      "cell_type": "code",
      "execution_count": null,
      "metadata": {
        "id": "wsQ56rzH6g6y"
      },
      "outputs": [],
      "source": [
        "# Build a neural network for Image classification\n",
        "# Train this neural network.\n",
        "# Finally, evaluate the accuracy of the model."
      ]
    },
    {
      "cell_type": "code",
      "execution_count": 1,
      "metadata": {
        "id": "OMogfQl16g63"
      },
      "outputs": [],
      "source": [
        "# Step 1: Import the neccessary modules\n",
        "import tensorflow as tf\n",
        "from tensorflow import keras"
      ]
    },
    {
      "cell_type": "code",
      "execution_count": 2,
      "metadata": {
        "id": "EoJfcR-o6g64"
      },
      "outputs": [],
      "source": [
        "# Step 2: Import the MNIST Fashion Dataset\n",
        "fashiondata = tf.keras.datasets.mnist"
      ]
    },
    {
      "cell_type": "code",
      "execution_count": 3,
      "metadata": {
        "colab": {
          "base_uri": "https://localhost:8080/"
        },
        "id": "xyfKtb3x6g65",
        "outputId": "14720e90-337d-4207-af65-ccb9bd528ec5"
      },
      "outputs": [
        {
          "output_type": "stream",
          "name": "stdout",
          "text": [
            "Downloading data from https://storage.googleapis.com/tensorflow/tf-keras-datasets/mnist.npz\n",
            "11490434/11490434 [==============================] - 0s 0us/step\n"
          ]
        }
      ],
      "source": [
        "# Step 3: Split the Dataset into training and test dataset\n",
        "(x_train, y_train), (x_test, y_test) = fashiondata.load_data()\n"
      ]
    },
    {
      "cell_type": "markdown",
      "source": [
        "Tuple of NumPy arrays: (x_train, y_train), (x_test, y_test)."
      ],
      "metadata": {
        "id": "fmCxP7jG9oPR"
      }
    },
    {
      "cell_type": "code",
      "execution_count": 4,
      "metadata": {
        "colab": {
          "base_uri": "https://localhost:8080/"
        },
        "id": "WfyeJDhF6g65",
        "outputId": "e08b2df5-3d92-46ad-fcc9-e4eb2b57073d"
      },
      "outputs": [
        {
          "output_type": "execute_result",
          "data": {
            "text/plain": [
              "(60000, 28, 28)"
            ]
          },
          "metadata": {},
          "execution_count": 4
        }
      ],
      "source": [
        "x_train.shape"
      ]
    },
    {
      "cell_type": "code",
      "execution_count": null,
      "metadata": {
        "id": "4lpTNJpK6g68"
      },
      "outputs": [],
      "source": [
        "x_train, x_test = x_train/255, x_test/255"
      ]
    },
    {
      "cell_type": "code",
      "execution_count": 5,
      "metadata": {
        "id": "btNHAUGn6g68"
      },
      "outputs": [],
      "source": [
        "# Step 4: Build the Neural network\n",
        "# In this steps,we create the network layers. In this case, there are four layers:\n",
        "#first layer is the input layer\n",
        "#second layer is the activation layer which useds  relu as the activation function.\n",
        "\n",
        "# Other activation functions includes:\n",
        "#elu: exponential linear unit\n",
        "#selu: scaled exponential linear unit\n",
        "#softplus\n",
        "#softsign\n",
        "#tanh - takes an input tensor and returns a hyperbolic function\n",
        "#sigmoid (takes an input tensor and returns 1/(1+exp(-x)))\n",
        "#hard_sigmoid\n",
        "#exponential(takes an input tensor and returns exp(x))\n",
        "#linear (takes an input tensor and returns same, no change)\n",
        "\n",
        "#the third layer is a dropout layer, which helps to control overfitting by introducing some noise\n",
        "#the last layer is the output layer\n",
        "\n",
        "model = tf.keras.models.Sequential([\n",
        "    tf.keras.layers.Flatten(input_shape=(28, 28)),\n",
        "    tf.keras.layers.Dense(128, activation='relu'),\n",
        "    tf.keras.layers.Dropout(0.2),\n",
        "    tf.keras.layers.Dense(10, activation='softmax')\n",
        "])"
      ]
    },
    {
      "cell_type": "code",
      "execution_count": 6,
      "metadata": {
        "id": "vmqD1RlK6g69"
      },
      "outputs": [],
      "source": [
        "# Step 5: Compile the model using adam optimizer\n",
        "# The compilation process defines the optimizer, the loss function and the metrics\n",
        "model.compile(optimizer='adam',\n",
        "             loss='sparse_categorical_crossentropy',\n",
        "             metrics=['accuracy'])"
      ]
    },
    {
      "cell_type": "code",
      "execution_count": 7,
      "metadata": {
        "colab": {
          "base_uri": "https://localhost:8080/"
        },
        "id": "CyhBjsVN6g6-",
        "outputId": "d4c9db09-3ade-47c5-eee6-fda13377e59e"
      },
      "outputs": [
        {
          "output_type": "stream",
          "name": "stdout",
          "text": [
            "Epoch 1/5\n",
            "1875/1875 [==============================] - 8s 4ms/step - loss: 2.9051 - accuracy: 0.7620\n",
            "Epoch 2/5\n",
            "1875/1875 [==============================] - 7s 4ms/step - loss: 0.5962 - accuracy: 0.8459\n",
            "Epoch 3/5\n",
            "1875/1875 [==============================] - 8s 4ms/step - loss: 0.4734 - accuracy: 0.8746\n",
            "Epoch 4/5\n",
            "1875/1875 [==============================] - 7s 4ms/step - loss: 0.4179 - accuracy: 0.8913\n",
            "Epoch 5/5\n",
            "1875/1875 [==============================] - 8s 4ms/step - loss: 0.3809 - accuracy: 0.9012\n"
          ]
        },
        {
          "output_type": "execute_result",
          "data": {
            "text/plain": [
              "<keras.src.callbacks.History at 0x7d68603f29b0>"
            ]
          },
          "metadata": {},
          "execution_count": 7
        }
      ],
      "source": [
        "# Step 6: Train the model\n",
        "# In this step, we train the model by feeding the inputs through the model.\n",
        "model.fit(x_train, y_train, epochs=5)"
      ]
    },
    {
      "cell_type": "code",
      "execution_count": 8,
      "metadata": {
        "colab": {
          "base_uri": "https://localhost:8080/"
        },
        "id": "3-hA3dDS6g7A",
        "outputId": "e00040e7-bb02-4034-ee82-1d57999dcca7"
      },
      "outputs": [
        {
          "output_type": "stream",
          "name": "stdout",
          "text": [
            "313/313 [==============================] - 1s 2ms/step - loss: 0.3012 - accuracy: 0.9362\n"
          ]
        },
        {
          "output_type": "execute_result",
          "data": {
            "text/plain": [
              "[0.30119481682777405, 0.9362000226974487]"
            ]
          },
          "metadata": {},
          "execution_count": 8
        }
      ],
      "source": [
        "# Step 7: Evaluate the Models\n",
        "# We check the peformance of the model based on the test dataset.\n",
        "model.evaluate(x_test, y_test)"
      ]
    },
    {
      "cell_type": "code",
      "execution_count": null,
      "metadata": {
        "id": "G25Y8MGI6g7B"
      },
      "outputs": [],
      "source": []
    }
  ],
  "metadata": {
    "kernelspec": {
      "display_name": "Python 3",
      "language": "python",
      "name": "python3"
    },
    "language_info": {
      "codemirror_mode": {
        "name": "ipython",
        "version": 3
      },
      "file_extension": ".py",
      "mimetype": "text/x-python",
      "name": "python",
      "nbconvert_exporter": "python",
      "pygments_lexer": "ipython3",
      "version": "3.7.6"
    },
    "colab": {
      "provenance": []
    }
  },
  "nbformat": 4,
  "nbformat_minor": 0
}