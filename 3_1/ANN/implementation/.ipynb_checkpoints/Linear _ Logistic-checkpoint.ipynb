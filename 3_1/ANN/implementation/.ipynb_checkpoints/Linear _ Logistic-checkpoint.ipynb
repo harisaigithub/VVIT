{
 "cells": [
  {
   "cell_type": "code",
   "execution_count": 1,
   "id": "5aa69581",
   "metadata": {},
   "outputs": [
    {
     "name": "stdout",
     "output_type": "stream",
     "text": [
      "(120, 4)\n",
      "(120,)\n",
      "0.884364899064747\n",
      "0.9333333333333333\n"
     ]
    }
   ],
   "source": [
    "from sklearn import datasets\n",
    "from sklearn.model_selection import train_test_split\n",
    "from sklearn.linear_model import LinearRegression\n",
    "from sklearn.linear_model import LogisticRegression\n",
    "d=datasets.load_iris()\n",
    "d.data\n",
    "x=d.data\n",
    "y=d.target\n",
    "xtr,xte,ytr,yte=train_test_split(x,y,random_state=True,test_size=0.2)\n",
    "print(xtr.shape)\n",
    "print(ytr.shape)\n",
    "lr=LinearRegression()\n",
    "lr.fit(xtr,ytr)\n",
    "lr.predict(xte)\n",
    "print(lr.score(xte,yte))\n",
    "lg=LogisticRegression(solver='liblinear',C=10,random_state=0)\n",
    "lg.fit(xtr,ytr)\n",
    "lg.predict(xte)\n",
    "print(lg.score(xte,yte))"
   ]
  },
  {
   "cell_type": "code",
   "execution_count": null,
   "id": "46a43771",
   "metadata": {},
   "outputs": [],
   "source": []
  }
 ],
 "metadata": {
  "kernelspec": {
   "display_name": "Python 3 (ipykernel)",
   "language": "python",
   "name": "python3"
  },
  "language_info": {
   "codemirror_mode": {
    "name": "ipython",
    "version": 3
   },
   "file_extension": ".py",
   "mimetype": "text/x-python",
   "name": "python",
   "nbconvert_exporter": "python",
   "pygments_lexer": "ipython3",
   "version": "3.9.12"
  }
 },
 "nbformat": 4,
 "nbformat_minor": 5
}
