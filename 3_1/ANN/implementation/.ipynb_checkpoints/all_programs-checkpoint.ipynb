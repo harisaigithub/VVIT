{
 "cells": [
  {
   "cell_type": "code",
   "execution_count": null,
   "id": "ad0f092b",
   "metadata": {},
   "outputs": [],
   "source": [
    "# Implementation of linear and logistic regression using scikit-learn\n",
    "from sklearn import datasets\n",
    "from sklearn.model_selection import train_test_split\n",
    "from sklearn.linear_model import LinearRegression\n",
    "from sklearn.linear_model import LogisticRegression\n",
    "d=datasets.load_iris()\n",
    "d.data\n",
    "x=d.data\n",
    "y=d.target\n",
    "xtr,xte,ytr,yte=train_test_split(x,y,random_state=True,test_size=0.2)\n",
    "print(xtr.shape)\n",
    "print(ytr.shape)\n",
    "lr=LinearRegression()\n",
    "lr.fit(xtr,ytr)\n",
    "lr.predict(xte)\n",
    "print(lr.score(xte,yte))\n",
    "lg=LogisticRegression(solver='liblinear',C=10,random_state=0)\n",
    "lg.fit(xtr,ytr)\n",
    "lg.predict(xte)\n",
    "print(lg.score(xte,yte))"
   ]
  },
  {
   "cell_type": "code",
   "execution_count": 3,
   "id": "46a43771",
   "metadata": {},
   "outputs": [
    {
     "name": "stdout",
     "output_type": "stream",
     "text": [
      "(120, 4)\n",
      "(120,)\n",
      "1.0\n"
     ]
    }
   ],
   "source": [
    "# Implementation of classification using ANN with scikit-learn on IRIS dataset for knn\n",
    "from sklearn import datasets\n",
    "from sklearn.model_selection import train_test_split\n",
    "from sklearn import neighbors\n",
    "d=datasets.load_iris()\n",
    "d.data\n",
    "x=d.data\n",
    "y=d.target\n",
    "xtr,xte,ytr,yte=train_test_split(x,y,random_state=True,test_size=0.2)\n",
    "print(xtr.shape)\n",
    "print(ytr.shape)\n",
    "knn = neighbors.KNeighborsClassifier(n_neighbors=1)\n",
    "knn.fit(xtr,ytr)\n",
    "knn.predict(xte)\n",
    "print(knn.score(xte,yte))"
   ]
  },
  {
   "cell_type": "code",
   "execution_count": 55,
   "id": "b6c0a6e9",
   "metadata": {},
   "outputs": [
    {
     "name": "stdout",
     "output_type": "stream",
     "text": [
      "(120, 4)\n",
      "(120,)\n",
      "0.9\n"
     ]
    },
    {
     "name": "stderr",
     "output_type": "stream",
     "text": [
      "C:\\Users\\ranke\\anaconda3\\lib\\site-packages\\sklearn\\svm\\_base.py:1206: ConvergenceWarning: Liblinear failed to converge, increase the number of iterations.\n",
      "  warnings.warn(\n"
     ]
    }
   ],
   "source": [
    "# Implementation of classification using ANN with scikit-learn on IRIS dataset for svm\n",
    "from sklearn import datasets\n",
    "from sklearn.model_selection import train_test_split\n",
    "from sklearn import svm\n",
    "d=datasets.load_iris()\n",
    "d.data\n",
    "x=d.data\n",
    "y=d.target\n",
    "xtr,xte,ytr,yte=train_test_split(x,y,random_state=True,test_size=0.2)\n",
    "print(xtr.shape)\n",
    "print(ytr.shape)\n",
    "clf = svm.LinearSVC(penalty='l2',dual=True)\n",
    "clf.fit(xtr,ytr)\n",
    "clf.predict(xte)\n",
    "print(clf.score(xte,yte))"
   ]
  },
  {
   "cell_type": "code",
   "execution_count": 40,
   "id": "993a1dae",
   "metadata": {},
   "outputs": [
    {
     "name": "stdout",
     "output_type": "stream",
     "text": [
      "(120, 4)\n",
      "(120,)\n",
      "0.9337803633585928\n"
     ]
    }
   ],
   "source": [
    "# Implementing multi layer perceptron using scikit learn.\n",
    "from sklearn import datasets\n",
    "from sklearn.model_selection import train_test_split\n",
    "from sklearn.neural_network import MLPClassifier\n",
    "d=datasets.load_iris()\n",
    "d.data\n",
    "x=d.data\n",
    "y=d.target\n",
    "xtr,xte,ytr,yte=train_test_split(x,y,random_state=True,test_size=0.2)\n",
    "print(xtr.shape)\n",
    "print(ytr.shape)\n",
    "clf = MLPClassifier(hidden_layer_sizes=(150,100,50), max_iter=300,activation = 'relu',solver='adam',random_state=1)\n",
    "clf.fit(xtr,ytr)\n",
    "clf.predict(xte)\n",
    "print(clf.score(xte,yte))"
   ]
  },
  {
   "cell_type": "code",
   "execution_count": 21,
   "id": "816a708f",
   "metadata": {},
   "outputs": [
    {
     "name": "stdout",
     "output_type": "stream",
     "text": [
      "First Vector:[5 6 9]\n",
      "Second Vector:[1 2 3]\n",
      "Vector Addition:[ 6  8 12]\n",
      "Vector Subtraction:[4 4 6]\n",
      "Vector Multiplication :[ 5 12 27]\n",
      "Vector Division:[5. 3. 3.]\n",
      "44\n",
      "l1_norm: 20.0\n",
      "l2_norm: 11.916375287812984\n",
      "linf_norm: 9.0\n",
      "11.0\n"
     ]
    }
   ],
   "source": [
    "#creation of vectors and performing operations\n",
    "import numpy as np\n",
    "list1 = [5, 6, 9]\n",
    "list2 = [1, 2, 3]\n",
    "vector1 = np.array(list1)\n",
    "print(\"First Vector:\"+str(vector1))\n",
    "vector2 = np.array(list2)\n",
    "print(\"Second Vector:\"+str(vector2))\n",
    "addition = vector1 + vector2\n",
    "print(\"Vector Addition:\"+str(addition))\n",
    "subtraction = vector1 - vector2\n",
    "print(\"Vector Subtraction:\"+str(subtraction))\n",
    "multiplication = vector1 * vector2\n",
    "print(\"Vector Multiplication :\"+str(multiplication))\n",
    "division = vector1 / vector2\n",
    "print(\"Vector Division:\"+ str(division))\n",
    "dot_prod=np.dot(vector1,vector2)\n",
    "print(dot_prod)\n",
    "l1_norm=np.linalg.norm(vector1,1)\n",
    "print(\"l1_norm: \"+str(l1_norm))\n",
    "l2_norm=np.linalg.norm(vector1,2)\n",
    "print(\"l2_norm: \"+str(l2_norm))\n",
    "linf_norm=np.linalg.norm(vector1,np.inf)\n",
    "print(\"linf_norm: \"+str(linf_norm))"
   ]
  },
  {
   "cell_type": "code",
   "execution_count": 58,
   "id": "587f6092",
   "metadata": {},
   "outputs": [
    {
     "name": "stdout",
     "output_type": "stream",
     "text": [
      "Enter the number of rows:2\n",
      "Enter the number of columns:2\n",
      "Enter the entries rowwise:\n",
      "1\n",
      "2\n",
      "3\n",
      "4\n",
      "determinant of matrix:-2.0000000000000004\n",
      "addition:[[17 15  4]\n",
      " [10 12  9]\n",
      " [11 13 18]]\n",
      "subtraction:[[ 7 -1  2]\n",
      " [-2 -2  3]\n",
      " [ 3  3  0]]\n",
      "multiplication:[[60 56  3]\n",
      " [24 35 18]\n",
      " [28 40 81]]\n",
      "divison:[[2.4        0.875      3.        ]\n",
      " [0.66666667 0.71428571 2.        ]\n",
      " [1.75       1.6        1.        ]]\n",
      "transpose of matrix[[12, 4, 7], [7, 5, 8], [3, 6, 9]]\n",
      "inverse of matrix[[  1.          13.          -9.        ]\n",
      " [ -2.         -29.          20.        ]\n",
      " [  1.          15.66666667 -10.66666667]]\n"
     ]
    }
   ],
   "source": [
    "#creating matrices\n",
    "import numpy as np\n",
    "R = int(input(\"Enter the number of rows:\"))\n",
    "C = int(input(\"Enter the number of columns:\"))\n",
    "matrix = []\n",
    "print(\"Enter the entries rowwise:\")\n",
    "for i in range(R):          \n",
    "    a =[]\n",
    "    for j in range(C):     \n",
    "         a.append(int(input()))\n",
    "    matrix.append(a)\n",
    "det=0\n",
    "det=np.linalg.det(matrix)\n",
    "print(\"determinant of matrix:\"+str(det))\n",
    "#operations\n",
    "import numpy as np\n",
    "X = [[12,7,3],\n",
    "    [4 ,5,6],\n",
    "    [7 ,8,9]]\n",
    "Y = [[5,8,1],\n",
    "    [6,7,3],\n",
    "    [4,5,9]]\n",
    "addition=np.add(X,Y)\n",
    "print(\"addition:\"+str(addition))\n",
    "sub=np.subtract(X,Y)\n",
    "print(\"subtraction:\"+str(sub))\n",
    "mul=np.multiply(X,Y)\n",
    "print(\"multiplication:\"+str(mul))\n",
    "div=np.divide(X,Y)\n",
    "print(\"divison:\"+str(div))\n",
    "result=[[0,0,0],[0,0,0],[0,0,0]]\n",
    "for i in range(len(X)):\n",
    "    for j in range(len(X)):\n",
    "        result[j][i]=X[i][j]\n",
    "print(\"transpose of matrix:\"+str(result))\n",
    "inverse=np.linalg.inv(X)\n",
    "print(\"inverse of matrix:\"+str(inverse))"
   ]
  },
  {
   "cell_type": "code",
   "execution_count": 35,
   "id": "ff1893e7",
   "metadata": {},
   "outputs": [
    {
     "name": "stdout",
     "output_type": "stream",
     "text": [
      "eigen values:[18.81549529 -1.72295482 -0.09254047]\n",
      "eigen vectors:[[-0.26993252 -0.85109273  0.22052568]\n",
      " [-0.54055424  0.08081883 -0.80826412]\n",
      " [-0.79682968  0.51875764  0.54596478]]\n"
     ]
    }
   ],
   "source": [
    "#eigenvalues and vectors\n",
    "import numpy as np\n",
    "vector1=np.array([[1,3,4],[5,6,7],[8,9,10]])\n",
    "eig_val,eig_vec=np.linalg.eig(vector1)\n",
    "print(\"eigen values:\"+str(eig_val))\n",
    "print(\"eigen vectors:\"+str(eig_vec))\n",
    "\n"
   ]
  },
  {
   "cell_type": "code",
   "execution_count": 37,
   "id": "795cf6a8",
   "metadata": {},
   "outputs": [
    {
     "name": "stdout",
     "output_type": "stream",
     "text": [
      "       col1  col2\n",
      "0 -1.264911     7\n",
      "1 -0.632456     4\n",
      "2  0.000000    35\n",
      "3  0.632456    14\n",
      "4  1.264911    56\n"
     ]
    }
   ],
   "source": [
    "#standardizing data\n",
    "import pandas as pd\n",
    "details = {'col1': [1, 3, 5, 7, 9],'col2': [7, 4, 35, 14, 56]}\n",
    "df = pd.DataFrame(details)\n",
    "df['col1'] = (df['col1'] - df['col1'].mean()) / df['col1'].std()\n",
    "print(df)"
   ]
  },
  {
   "cell_type": "code",
   "execution_count": 38,
   "id": "6d3f5738",
   "metadata": {},
   "outputs": [
    {
     "name": "stdout",
     "output_type": "stream",
     "text": [
      "(120, 4)\n",
      "(120,)\n",
      "0.5666666666666667\n"
     ]
    }
   ],
   "source": [
    "#perceptron\n",
    "from sklearn import datasets\n",
    "from sklearn.model_selection import train_test_split\n",
    "from sklearn.linear_model import Perceptron\n",
    "d=datasets.load_iris()\n",
    "d.data\n",
    "x=d.data\n",
    "y=d.target\n",
    "xtr,xte,ytr,yte=train_test_split(x,y,random_state=True,test_size=0.2)\n",
    "print(xtr.shape)\n",
    "print(ytr.shape)\n",
    "p=Perceptron(max_iter=200,random_state=0)\n",
    "p.fit(xtr,ytr)\n",
    "p.predict(xte)\n",
    "print(p.score(xte,yte))"
   ]
  },
  {
   "cell_type": "code",
   "execution_count": 59,
   "id": "b581c1e1",
   "metadata": {},
   "outputs": [
    {
     "name": "stdout",
     "output_type": "stream",
     "text": [
      "[ 5.  3. -2.]\n"
     ]
    }
   ],
   "source": [
    "#linear transformations\n",
    "A = np.array([[4, 3, 2], [-2, 2, 3], [3, -5, 2]])\n",
    "B = np.array([25, -10, -4])\n",
    "X2 = np.linalg.solve(A,B)\n",
    "print(X2)"
   ]
  },
  {
   "cell_type": "code",
   "execution_count": 67,
   "id": "d543ef12",
   "metadata": {},
   "outputs": [],
   "source": [
    "def predict(x,w,b):\n",
    "    y=np.dot(x,w)+b\n",
    "    return y\n",
    "def update(x,w,b,y,ypred,lrate):\n",
    "    gn=np.dot(x,y-ypred)\n",
    "    lrate=0.1\n",
    "    wnew=w+(lrate*gn)\n",
    "    return wnew\n",
    "def gardien_descent(x,y,niter,lrate):\n",
    "    b=random.random()\n",
    "    w=random.rand(x.shape[1])\n",
    "    w=w.reshape((x.shape,1))\n",
    "    for i in range(2):\n",
    "        ypred=predict(x,w,b)\n",
    "        w=update(x,w,b,ypred,lrate)\n",
    "        print(w)\n",
    "        print(y-ypred)"
   ]
  }
 ],
 "metadata": {
  "kernelspec": {
   "display_name": "Python 3 (ipykernel)",
   "language": "python",
   "name": "python3"
  },
  "language_info": {
   "codemirror_mode": {
    "name": "ipython",
    "version": 3
   },
   "file_extension": ".py",
   "mimetype": "text/x-python",
   "name": "python",
   "nbconvert_exporter": "python",
   "pygments_lexer": "ipython3",
   "version": "3.9.12"
  }
 },
 "nbformat": 4,
 "nbformat_minor": 5
}
