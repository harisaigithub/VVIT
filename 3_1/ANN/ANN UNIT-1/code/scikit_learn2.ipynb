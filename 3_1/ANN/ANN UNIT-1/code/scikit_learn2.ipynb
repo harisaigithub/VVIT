{
 "cells": [
  {
   "cell_type": "code",
   "execution_count": 1,
   "metadata": {},
   "outputs": [
    {
     "data": {
      "text/plain": [
       "sklearn.utils.Bunch"
      ]
     },
     "execution_count": 1,
     "metadata": {},
     "output_type": "execute_result"
    }
   ],
   "source": [
    "import pandas as pd\n",
    "from sklearn.datasets import fetch_openml\n",
    "df = fetch_openml(\"titanic_1\", version=1, as_frame=True)\n",
    "df = fetch_openml(data_id=42439,as_frame=True)\n",
    "#df.head(3)\n",
    "type(df)\n"
   ]
  },
  {
   "cell_type": "code",
   "execution_count": 30,
   "metadata": {},
   "outputs": [
    {
     "name": "stdout",
     "output_type": "stream",
     "text": [
      "0      0.0\n",
      "1      1.0\n",
      "2      1.0\n",
      "3      1.0\n",
      "4      0.0\n",
      "      ... \n",
      "886    0.0\n",
      "887    1.0\n",
      "888    0.0\n",
      "889    1.0\n",
      "890    0.0\n",
      "Name: Survived, Length: 891, dtype: float64\n"
     ]
    }
   ],
   "source": [
    "#print(df.data)\n",
    "print(df.target)"
   ]
  },
  {
   "cell_type": "code",
   "execution_count": 2,
   "metadata": {},
   "outputs": [
    {
     "name": "stdout",
     "output_type": "stream",
     "text": [
      "<class 'pandas.core.frame.DataFrame'>\n"
     ]
    }
   ],
   "source": [
    "import pandas as pd\n",
    "from sklearn.datasets import fetch_openml\n",
    "\n",
    "\n",
    "#df = fetch_openml(\"titanic_1\", version=1, as_frame=True)['data']\n",
    "#df = fetch_openml(data_id=42439,as_frame=True)   ===>returns bunch object\n",
    "\n",
    "X, y = fetch_openml('titanic_1', version=1, as_frame=True, return_X_y=True)\n",
    "print(type(X))\n"
   ]
  },
  {
   "cell_type": "code",
   "execution_count": 3,
   "metadata": {},
   "outputs": [
    {
     "name": "stdout",
     "output_type": "stream",
     "text": [
      "       Pclass       Sex       Age      Fare  Embarked  relatives     Title\n",
      "0    0.827377 -0.737695 -0.810826 -1.218367 -0.568837   0.059160 -0.707550\n",
      "1   -1.566107  1.355574  0.785152  1.181555  1.005181   0.059160  1.235215\n",
      "2    0.827377  1.355574 -0.278833 -1.218367 -0.568837  -0.560975  0.263832\n",
      "3   -1.566107  1.355574  0.785152  1.181555 -0.568837   0.059160  1.235215\n",
      "4    0.827377 -0.737695  0.785152 -0.418393 -0.568837  -0.560975 -0.707550\n",
      "..        ...       ...       ...       ...       ...        ...       ...\n",
      "886 -0.369365 -0.737695 -0.278833 -0.418393 -0.568837  -0.560975  3.177981\n",
      "887 -1.566107  1.355574 -0.810826  0.381581 -0.568837  -0.560975  0.263832\n",
      "888  0.827377  1.355574 -1.342818  0.381581 -0.568837   1.299429  0.263832\n",
      "889 -1.566107 -0.737695 -0.278833  0.381581  1.005181  -0.560975 -0.707550\n",
      "890  0.827377 -0.737695  0.253159 -1.218367  2.579199  -0.560975 -0.707550\n",
      "\n",
      "[891 rows x 7 columns]\n",
      "Train size: 70% \n",
      "Test size: 30%\n",
      "Prediction class=[0.]\n"
     ]
    }
   ],
   "source": [
    "import pandas as pd\n",
    "from sklearn.datasets import fetch_openml\n",
    "from scipy.stats import zscore\n",
    "from sklearn.model_selection import train_test_split\n",
    "from sklearn.neighbors import KNeighborsClassifier\n",
    "\n",
    "#df = fetch_openml(\"titanic_1\", version=1, as_frame=True)['data']\n",
    "#df = fetch_openml(data_id=42439,as_frame=True)   ===>returns bunch object\n",
    "\n",
    "X, y = fetch_openml('titanic_1', version=1, as_frame=True, return_X_y=True)\n",
    "X_scaled=X.apply(zscore)\n",
    "print(X_scaled)\n",
    "\n",
    "\n",
    "# Split data into train and test\n",
    "X_train, X_test, y_train, y_test = train_test_split(X_scaled,y,train_size=.7,random_state=25)\n",
    "\n",
    "\n",
    "print(f\"Train size: {round(len(X_train) / len(X) * 100)}% \\nTest size: {round(len(X_test) / len(X) * 100)}%\")\n",
    "\n",
    "# Instantiate the model\n",
    "cls = KNeighborsClassifier()\n",
    "\n",
    "# Train/Fit the model \n",
    "cls.fit(X_train, y_train)\n",
    "\n",
    "# Make prediction using the model\n",
    "X_pred = [10.1, 8.2, 5.5, 2.5,6,7,8]\n",
    "y_pred = cls.predict([X_pred])\n",
    "\n",
    "print(f\"Prediction class={y_pred}\")\n"
   ]
  },
  {
   "cell_type": "code",
   "execution_count": null,
   "metadata": {},
   "outputs": [],
   "source": []
  }
 ],
 "metadata": {
  "kernelspec": {
   "display_name": "Python 3",
   "language": "python",
   "name": "python3"
  },
  "language_info": {
   "codemirror_mode": {
    "name": "ipython",
    "version": 3
   },
   "file_extension": ".py",
   "mimetype": "text/x-python",
   "name": "python",
   "nbconvert_exporter": "python",
   "pygments_lexer": "ipython3",
   "version": "3.8.5"
  }
 },
 "nbformat": 4,
 "nbformat_minor": 4
}
