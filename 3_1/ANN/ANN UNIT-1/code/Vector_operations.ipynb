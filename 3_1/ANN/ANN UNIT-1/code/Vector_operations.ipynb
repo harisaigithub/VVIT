{
 "cells": [
  {
   "cell_type": "code",
   "execution_count": null,
   "metadata": {},
   "outputs": [],
   "source": [
    "# vector opertions: \n",
    "# addition, subtraction, dot product, various norms."
   ]
  },
  {
   "cell_type": "code",
   "execution_count": 1,
   "metadata": {},
   "outputs": [
    {
     "data": {
      "text/plain": [
       "32"
      ]
     },
     "execution_count": 1,
     "metadata": {},
     "output_type": "execute_result"
    }
   ],
   "source": [
    "# calculate the dot product of two vectors.\n",
    "# Load library\n",
    "import numpy as np\n",
    "\n",
    "# Create two vectors\n",
    "vector_a = np.array([1,2,3])\n",
    "vector_b = np.array([4,5,6])\n",
    "\n",
    "# Calculate dot product\n",
    "print(np.dot(vector_a, vector_b))"
   ]
  },
  {
   "cell_type": "code",
   "execution_count": 2,
   "metadata": {},
   "outputs": [
    {
     "name": "stdout",
     "output_type": "stream",
     "text": [
      "[4 4 4]\n",
      "[ 2  0 -2]\n"
     ]
    }
   ],
   "source": [
    "import numpy as np\n",
    " \n",
    "arr1 = np.array([3, 2, 1])\n",
    "arr2 = np.array([1, 2, 3])\n",
    "   \n",
    "s = np.add(arr1, arr2)\n",
    "t=np.subtract(arr1,arr2)\n",
    "print(s)  \n",
    "print(t)"
   ]
  },
  {
   "cell_type": "code",
   "execution_count": 2,
   "metadata": {
    "scrolled": false
   },
   "outputs": [
    {
     "name": "stdout",
     "output_type": "stream",
     "text": [
      "[ 4 -8  4]\n"
     ]
    }
   ],
   "source": [
    "#cross product of two vectors:output is vector\n",
    "import numpy as np\n",
    " \n",
    "arr1 = np.array([3, 2, 1])\n",
    "arr2 = np.array([1, 2, 3])\n",
    "   \n",
    "arr1_cross_arr2 = np.cross(arr1, arr2)\n",
    "print(arr1_cross_arr2)"
   ]
  },
  {
   "cell_type": "markdown",
   "metadata": {},
   "source": []
  },
  {
   "cell_type": "code",
   "execution_count": 4,
   "metadata": {},
   "outputs": [
    {
     "name": "stdout",
     "output_type": "stream",
     "text": [
      "5.0\n"
     ]
    }
   ],
   "source": [
    "#norms:l2 norm or euclidean norm\n",
    "import numpy as np\n",
    "v=np.array([-5, 3, 2])\n",
    "value=np.linalg.norm(v,np.inf)\n",
    "print(value)"
   ]
  },
  {
   "cell_type": "code",
   "execution_count": 4,
   "metadata": {},
   "outputs": [
    {
     "name": "stdout",
     "output_type": "stream",
     "text": [
      "10.0\n",
      "Projection of a vector on v vector =  [-1.12  0.84]\n"
     ]
    }
   ],
   "source": [
    "a = np.array([2, 5])\n",
    "\n",
    "v = np.array([8, -6])\n",
    "\n",
    "# magnitude of \"v\" vector\n",
    "magnitude_of_v = np.sqrt(sum(v**2))\n",
    "print(magnitude_of_v)\n",
    "\n",
    "proj_of_a_on_v = (np.dot(a,v)/magnitude_of_v**2)*v \n",
    "\n",
    "print('Projection of a vector on v vector = ', proj_of_a_on_v)"
   ]
  },
  {
   "cell_type": "code",
   "execution_count": 13,
   "metadata": {},
   "outputs": [
    {
     "name": "stdout",
     "output_type": "stream",
     "text": [
      "10.0\n",
      "Projection of a vector on v vector =  [-1.12  0.84]\n"
     ]
    }
   ],
   "source": [
    "a = np.array([2, 5])\n",
    "\n",
    "v = np.array([8, -6])\n",
    "\n",
    "# magnitude of \"v\" vector\n",
    "#magnitude_of_v = np.sqrt(sum(v**2))\n",
    "magnitude_of_v=np.linalg.norm(v)\n",
    "print(magnitude_of_v)\n",
    "\n",
    "proj_of_a_on_v = (np.dot(a,v)/magnitude_of_v**2)*v \n",
    "\n",
    "print('Projection of a vector on v vector = ', proj_of_a_on_v)"
   ]
  },
  {
   "cell_type": "code",
   "execution_count": 9,
   "metadata": {},
   "outputs": [
    {
     "name": "stdout",
     "output_type": "stream",
     "text": [
      "10.0\n"
     ]
    }
   ],
   "source": [
    "#norms:l1 norm\n",
    "import numpy as np\n",
    "v=np.array([-5, 3, 2])\n",
    "value=np.linalg.norm(v,ord=1)\n",
    "print(value)\n"
   ]
  },
  {
   "cell_type": "code",
   "execution_count": 12,
   "metadata": {},
   "outputs": [
    {
     "name": "stdout",
     "output_type": "stream",
     "text": [
      "5.0\n"
     ]
    }
   ],
   "source": [
    "#norms:l1 norm\n",
    "import numpy as np\n",
    "v=np.array([-5, 3, 2])\n",
    "value=np.linalg.norm(v,np.inf)\n",
    "print(value)"
   ]
  },
  {
   "cell_type": "code",
   "execution_count": null,
   "metadata": {},
   "outputs": [],
   "source": []
  }
 ],
 "metadata": {
  "kernelspec": {
   "display_name": "Python 3",
   "language": "python",
   "name": "python3"
  },
  "language_info": {
   "codemirror_mode": {
    "name": "ipython",
    "version": 3
   },
   "file_extension": ".py",
   "mimetype": "text/x-python",
   "name": "python",
   "nbconvert_exporter": "python",
   "pygments_lexer": "ipython3",
   "version": "3.8.5"
  }
 },
 "nbformat": 4,
 "nbformat_minor": 4
}
